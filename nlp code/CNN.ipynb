{
 "cells": [
  {
   "cell_type": "code",
   "execution_count": 1,
   "id": "f93e9a84",
   "metadata": {},
   "outputs": [
    {
     "name": "stderr",
     "output_type": "stream",
     "text": [
      "[nltk_data] Downloading package stopwords to\n",
      "[nltk_data]     C:\\Users\\babyj\\AppData\\Roaming\\nltk_data...\n",
      "[nltk_data]   Package stopwords is already up-to-date!\n",
      "[nltk_data] Downloading package averaged_perceptron_tagger to\n",
      "[nltk_data]     C:\\Users\\babyj\\AppData\\Roaming\\nltk_data...\n",
      "[nltk_data]   Package averaged_perceptron_tagger is already up-to-\n",
      "[nltk_data]       date!\n",
      "[nltk_data] Downloading package wordnet to\n",
      "[nltk_data]     C:\\Users\\babyj\\AppData\\Roaming\\nltk_data...\n",
      "[nltk_data]   Package wordnet is already up-to-date!\n"
     ]
    },
    {
     "data": {
      "text/plain": [
       "True"
      ]
     },
     "execution_count": 1,
     "metadata": {},
     "output_type": "execute_result"
    }
   ],
   "source": [
    "import nltk\n",
    "from nltk.corpus import stopwords\n",
    "from nltk.tokenize import word_tokenize\n",
    "from nltk.probability import FreqDist\n",
    "import os.path\n",
    "from nltk.stem import PorterStemmer, WordNetLemmatizer\n",
    "from nltk.corpus import wordnet\n",
    "from nltk import pos_tag\n",
    "import numpy as np\n",
    "import re\n",
    "import math\n",
    "import pandas as pd\n",
    "import csv\n",
    "import pickle\n",
    "from tensorflow.keras.models import Sequential\n",
    "from tensorflow.keras.layers import Embedding, Conv1D, Dense, Dropout, Flatten\n",
    "from tensorflow.keras.callbacks import EarlyStopping\n",
    "from sklearn.model_selection import train_test_split\n",
    "from langdetect import detect\n",
    "import tensorflow as tf\n",
    "import matplotlib.pyplot as plt\n",
    "from sklearn.metrics import classification_report\n",
    "\n",
    "nltk.download('stopwords')\n",
    "nltk.download('averaged_perceptron_tagger')\n",
    "nltk.download('wordnet')\n"
   ]
  },
  {
   "cell_type": "code",
   "execution_count": 2,
   "id": "21494d11",
   "metadata": {},
   "outputs": [],
   "source": [
    "emoji_dict = {}\n",
    "with open('emoji.txt', 'r', encoding='latin-1') as emoji_file:\n",
    "    for line in emoji_file:\n",
    "        line = line.strip()\n",
    "        if line:\n",
    "            emoji, value = line.split('\\t')\n",
    "            emoji_dict[emoji] = int(value)"
   ]
  },
  {
   "cell_type": "code",
   "execution_count": 3,
   "id": "91106086",
   "metadata": {},
   "outputs": [],
   "source": [
    "def replace_emojis(text, emoji_dict):\n",
    "    for emoji, value in emoji_dict.items():\n",
    "        if value == 1:\n",
    "            text = re.sub(re.escape(emoji), 'happy', text)\n",
    "        elif value == -1:\n",
    "            text = re.sub(re.escape(emoji), 'sad', text)\n",
    "    return text"
   ]
  },
  {
   "cell_type": "code",
   "execution_count": 4,
   "id": "f1ac01d9",
   "metadata": {},
   "outputs": [],
   "source": [
    "#vincent\n",
    "def get_wordnet_pos(treebank_tag):\n",
    "    if treebank_tag.startswith('J'):\n",
    "        return wordnet.ADJ\n",
    "    elif treebank_tag.startswith('V'):\n",
    "        return wordnet.VERB\n",
    "    elif treebank_tag.startswith('N'):\n",
    "        return wordnet.NOUN\n",
    "    elif treebank_tag.startswith('R'):\n",
    "        return wordnet.ADV\n",
    "    else:\n",
    "        return None\n",
    "    \n",
    "def preprocess_text(text):\n",
    "    text = text.lower()\n",
    "    text = re.sub(r\"[^a-zA-Z0-9\\s]\", \"\", text)\n",
    "    words = word_tokenize(text)\n",
    "    stemmer = PorterStemmer()\n",
    "    words = [stemmer.stem(word) for word in words]\n",
    "    lemmatizer = WordNetLemmatizer()\n",
    "    tagged = pos_tag(words)\n",
    "    words = [lemmatizer.lemmatize(word, pos=get_wordnet_pos(pos)) if get_wordnet_pos(pos) else word for word, pos in tagged]\n",
    "    stop_words = set(stopwords.words('english'))\n",
    "    filtered_words = [word for word in words if word not in stop_words]\n",
    "    return ' '.join(filtered_words)\n",
    "\n",
    "hatefulCorpus=[]\n",
    "nHatefulCorpus=[]\n",
    "neutralCorpus=[]\n",
    "with open(\"firstIter.csv\", \"r\", encoding=\"utf-8\") as file:\n",
    "    reader = csv.DictReader(file)\n",
    "    for row in reader:\n",
    "        if not all(value == \"\" for value in row.values()):\n",
    "            text = row[\"Comment Text\"]\n",
    "            if text == \"\":\n",
    "                continue\n",
    "            label = row[\"Label\"]\n",
    "            if label == \"\":\n",
    "                continue\n",
    "            try:\n",
    "                lang=detect(text)\n",
    "            except:\n",
    "                lang = \"\"\n",
    "            if lang != \"en\":\n",
    "                continue\n",
    "            newText = text.strip()\n",
    "            newText = replace_emojis(newText, emoji_dict)\n",
    "            newText = preprocess_text(newText)\n",
    "            if label=='Neutral':\n",
    "                neutralCorpus.append(newText)\n",
    "            elif label=='Hateful':\n",
    "                hatefulCorpus.append(newText)\n",
    "            else:\n",
    "                nHatefulCorpus.append(newText)"
   ]
  },
  {
   "cell_type": "code",
   "execution_count": 5,
   "id": "aa1c54d4",
   "metadata": {},
   "outputs": [
    {
     "data": {
      "text/plain": [
       "1060"
      ]
     },
     "execution_count": 5,
     "metadata": {},
     "output_type": "execute_result"
    }
   ],
   "source": [
    "#all_texts = hatefulCorpus + nHatefulCorpus + neutralCorpus\n",
    "# Create frequency distribution\n",
    "#word_freq = FreqDist()\n",
    "\n",
    "#for text in all_texts:\n",
    "#    words = text.split()\n",
    "#    word_freq.update(words)\n",
    "#known_words = {word for word, freq in word_freq.items() if freq > 3}\n",
    "#len(known_words)"
   ]
  },
  {
   "cell_type": "code",
   "execution_count": 11,
   "id": "7414aedb",
   "metadata": {},
   "outputs": [],
   "source": [
    "#total_words = 0\n",
    "#num_comments = len(all_texts)\n",
    "\n",
    "#for comment in all_texts:\n",
    "#    total_words += len(comment.split())\n",
    "\n",
    "#average_words = total_words / num_comments\n",
    "\n",
    "#variance = 0\n",
    "#for comment in all_texts:\n",
    "#    num_words = len(comment.split())\n",
    "#    variance += (num_words - average_words) ** 2\n",
    "\n",
    "#std_deviation = math.sqrt(variance / num_comments)\n",
    "#M = round(average_words + std_deviation)\n",
    "\n",
    "#def comment_to_vector(comment, known_words, M):\n",
    "#    words = comment.split()\n",
    "#    vector = []\n",
    "#    for i in range(M):\n",
    "#        if i < len(words):\n",
    "#            word = words[i]\n",
    "#            if word in known_words:\n",
    "#                vector.append(known_words.index(word) + 1)\n",
    "#            else:\n",
    "#                vector.append(0)\n",
    "#        else:\n",
    "#            vector.append(0)\n",
    "#    return vector\n",
    "\n",
    "# Convert preprocessed comments to vector representation\n",
    "#hateful_comment_vectors = []\n",
    "#for comment in hatefulCorpus:\n",
    "#    vector = comment_to_vector(comment, list(known_words), M)\n",
    "#    hateful_comment_vectors.append(vector)\n",
    "    \n",
    "\n",
    "#nHateful_comment_vectors = []\n",
    "#for comment in nHatefulCorpus:\n",
    "#    vector = comment_to_vector(comment, list(known_words), M)\n",
    "#    nHateful_comment_vectors.append(vector)\n",
    "#    \n",
    "#neutral_comment_vectors = []\n",
    "#for comment in neutralCorpus:\n",
    "#    vector = comment_to_vector(comment, list(known_words), M)\n",
    "#    neutral_comment_vectors.append(vector)"
   ]
  },
  {
   "cell_type": "code",
   "execution_count": 12,
   "id": "f1944998",
   "metadata": {},
   "outputs": [
    {
     "name": "stdout",
     "output_type": "stream",
     "text": [
      "Epoch 1/20\n",
      "32/32 [==============================] - 2s 15ms/step - loss: 1.0141 - accuracy: 0.5522 - val_loss: 0.9664 - val_accuracy: 0.6040\n",
      "Epoch 2/20\n",
      "32/32 [==============================] - 0s 8ms/step - loss: 0.9939 - accuracy: 0.5562 - val_loss: 0.9446 - val_accuracy: 0.6040\n",
      "Epoch 3/20\n",
      "32/32 [==============================] - 0s 8ms/step - loss: 0.9837 - accuracy: 0.5562 - val_loss: 0.9542 - val_accuracy: 0.6040\n",
      "Epoch 4/20\n",
      "32/32 [==============================] - 0s 9ms/step - loss: 0.9633 - accuracy: 0.5562 - val_loss: 0.9600 - val_accuracy: 0.6040\n",
      "Epoch 5/20\n",
      "32/32 [==============================] - 0s 9ms/step - loss: 0.9289 - accuracy: 0.5562 - val_loss: 0.9433 - val_accuracy: 0.6040\n",
      "Epoch 6/20\n",
      "32/32 [==============================] - 0s 9ms/step - loss: 0.8576 - accuracy: 0.5562 - val_loss: 0.9511 - val_accuracy: 0.6040\n",
      "Epoch 7/20\n",
      "32/32 [==============================] - 0s 9ms/step - loss: 0.8066 - accuracy: 0.5763 - val_loss: 0.9494 - val_accuracy: 0.6000\n",
      "Epoch 8/20\n",
      "32/32 [==============================] - 0s 8ms/step - loss: 0.7330 - accuracy: 0.6295 - val_loss: 1.0288 - val_accuracy: 0.5960\n"
     ]
    },
    {
     "name": "stderr",
     "output_type": "stream",
     "text": [
      "WARNING:absl:Found untraced functions such as _jit_compiled_convolution_op, _jit_compiled_convolution_op, _update_step_xla while saving (showing 3 of 3). These functions will not be directly callable after loading.\n"
     ]
    },
    {
     "name": "stdout",
     "output_type": "stream",
     "text": [
      "INFO:tensorflow:Assets written to: savedModels/CNN_Model\\assets\n"
     ]
    },
    {
     "name": "stderr",
     "output_type": "stream",
     "text": [
      "INFO:tensorflow:Assets written to: savedModels/CNN_Model\\assets\n"
     ]
    }
   ],
   "source": [
    "#from tensorflow.keras.layers import Dense\n",
    "#from tensorflow.keras.utils import to_categorical\n",
    "#hateful_comment_vectors = np.array(hateful_comment_vectors)\n",
    "#nHateful_comment_vectors = np.array(nHateful_comment_vectors)\n",
    "#neutral_comment_vectors = np.array(neutral_comment_vectors)\n",
    "\n",
    "#all_comment_vectors = np.concatenate((hateful_comment_vectors, nHateful_comment_vectors, neutral_comment_vectors))\n",
    "\n",
    "#hateful_labels = np.ones(len(hatefulCorpus))\n",
    "#nHateful_labels = np.zeros(len(nHatefulCorpus))\n",
    "#neutral_labels = np.full(len(neutralCorpus), 2)\n",
    "\n",
    "#all_labels = np.concatenate((hateful_labels, nHateful_labels, neutral_labels))\n",
    "\n",
    "#num_classes = 3\n",
    "\n",
    "#X_train, X_test, y_train, y_test = train_test_split(all_comment_vectors, all_labels, test_size=0.2, random_state=42)\n",
    "#y_train_one_hot = to_categorical(y_train, num_classes)\n",
    "#y_test_one_hot = to_categorical(y_test, num_classes)\n",
    "\n",
    "#embedding_dim = 40\n",
    "\n",
    "\n",
    "#model = Sequential()\n",
    "#model.add(Embedding(input_dim=len(known_words) + 1, output_dim=embedding_dim, input_length=M))\n",
    "#model.add(Conv1D(filters=32, kernel_size=3, activation='relu'))\n",
    "#model.add(Dropout(0.5))\n",
    "#model.add(Conv1D(filters=64, kernel_size=3, activation='relu'))\n",
    "#model.add(Dropout(0.5))\n",
    "#model.add(Dense(units=50, activation='relu'))\n",
    "#model.add(Dropout(0.5))\n",
    "#model.add(Flatten())\n",
    "#model.add(Dense(units=num_classes, activation='softmax'))\n",
    "\n",
    "#model.compile(loss='categorical_crossentropy', optimizer='adam', metrics=['accuracy'])\n",
    "\n",
    "#early_stopping = EarlyStopping(monitor='val_loss', patience=3)\n",
    "\n",
    "#model.fit(X_train, y_train_one_hot, epochs=20, batch_size=32, validation_data=(X_test, y_test_one_hot), callbacks=[early_stopping])\n",
    "\n",
    "#model.save('savedModels/CNN_Model')\n"
   ]
  },
  {
   "cell_type": "code",
   "execution_count": 39,
   "id": "8dde71a3",
   "metadata": {},
   "outputs": [
    {
     "name": "stdout",
     "output_type": "stream",
     "text": [
      "1/1 [==============================] - 0s 79ms/step\n",
      "hateful\n"
     ]
    }
   ],
   "source": [
    "#import tensorflow as tf\n",
    "#import keras\n",
    "#testData = \"All immigrants should be deported to where they came from.\"\n",
    "#testData = testData.strip()\n",
    "#testData = replace_emojis(testData, emoji_dict)\n",
    "#testData = preprocess_text(testData)\n",
    "#testDataVector = comment_to_vector(testData, list(known_words), 40)\n",
    "#testDataVector = np.array(testDataVector)\n",
    "#testDataVector = np.expand_dims(testDataVector, axis=0)\n",
    "#loadedModel = tf.keras.models.load_model('savedModels/CNN_Model')\n",
    "#predicted_probabilities = loadedModel.predict(testDataVector)\n",
    "#predicted_class = np.argmax(predicted_probabilities)\n",
    "#class_labels = ['hateful', 'non-hateful', 'neutral']\n",
    "#print(class_labels[predicted_class])"
   ]
  },
  {
   "cell_type": "markdown",
   "id": "1df7757e",
   "metadata": {},
   "source": [
    "## Implementing CNN using Glove Embedding"
   ]
  },
  {
   "cell_type": "code",
   "execution_count": 5,
   "id": "cfb272ef",
   "metadata": {},
   "outputs": [
    {
     "name": "stdout",
     "output_type": "stream",
     "text": [
      "nutral = 267 nhateful = 273 hateful = 272\n"
     ]
    }
   ],
   "source": [
    "hatefulCorpus = hatefulCorpus[:272]\n",
    "print(\"nutral = \"+str(len(neutralCorpus))+\" nhateful = \"+str(len(nHatefulCorpus))+\" hateful = \"+str(len(hatefulCorpus)))"
   ]
  },
  {
   "cell_type": "code",
   "execution_count": 6,
   "id": "e6125e7c",
   "metadata": {},
   "outputs": [
    {
     "name": "stdout",
     "output_type": "stream",
     "text": [
      "Epoch 1/20\n",
      "21/21 [==============================] - 2s 27ms/step - loss: 1.1056 - accuracy: 0.3652 - val_loss: 1.1046 - val_accuracy: 0.4417\n",
      "Epoch 2/20\n",
      "21/21 [==============================] - 0s 12ms/step - loss: 1.0951 - accuracy: 0.3744 - val_loss: 1.1025 - val_accuracy: 0.3742\n",
      "Epoch 3/20\n",
      "21/21 [==============================] - 0s 11ms/step - loss: 1.0839 - accuracy: 0.4006 - val_loss: 1.0990 - val_accuracy: 0.4172\n",
      "Epoch 4/20\n",
      "21/21 [==============================] - 0s 11ms/step - loss: 1.0856 - accuracy: 0.3945 - val_loss: 1.0929 - val_accuracy: 0.4540\n",
      "Epoch 5/20\n",
      "21/21 [==============================] - 0s 11ms/step - loss: 1.0736 - accuracy: 0.4330 - val_loss: 1.0910 - val_accuracy: 0.4601\n",
      "Epoch 6/20\n",
      "21/21 [==============================] - 0s 11ms/step - loss: 1.0622 - accuracy: 0.4407 - val_loss: 1.0847 - val_accuracy: 0.4601\n",
      "Epoch 7/20\n",
      "21/21 [==============================] - 0s 11ms/step - loss: 1.0589 - accuracy: 0.4268 - val_loss: 1.0802 - val_accuracy: 0.4417\n",
      "Epoch 8/20\n",
      "21/21 [==============================] - 0s 12ms/step - loss: 1.0409 - accuracy: 0.4330 - val_loss: 1.0739 - val_accuracy: 0.4417\n",
      "Epoch 9/20\n",
      "21/21 [==============================] - 0s 11ms/step - loss: 1.0408 - accuracy: 0.4561 - val_loss: 1.0737 - val_accuracy: 0.4785\n",
      "Epoch 10/20\n",
      "21/21 [==============================] - 0s 11ms/step - loss: 1.0260 - accuracy: 0.4730 - val_loss: 1.0557 - val_accuracy: 0.4110\n",
      "Epoch 11/20\n",
      "21/21 [==============================] - 0s 11ms/step - loss: 1.0228 - accuracy: 0.4715 - val_loss: 1.0636 - val_accuracy: 0.4417\n",
      "Epoch 12/20\n",
      "21/21 [==============================] - 0s 12ms/step - loss: 1.0132 - accuracy: 0.4869 - val_loss: 1.0459 - val_accuracy: 0.4294\n",
      "Epoch 13/20\n",
      "21/21 [==============================] - 0s 11ms/step - loss: 0.9918 - accuracy: 0.4730 - val_loss: 1.0465 - val_accuracy: 0.3988\n",
      "Epoch 14/20\n",
      "21/21 [==============================] - 0s 11ms/step - loss: 0.9653 - accuracy: 0.5193 - val_loss: 1.0397 - val_accuracy: 0.4294\n",
      "Epoch 15/20\n",
      "21/21 [==============================] - 0s 10ms/step - loss: 0.9396 - accuracy: 0.5347 - val_loss: 1.0429 - val_accuracy: 0.4417\n",
      "Epoch 16/20\n",
      "21/21 [==============================] - 0s 10ms/step - loss: 0.9272 - accuracy: 0.5470 - val_loss: 1.0163 - val_accuracy: 0.4417\n",
      "Epoch 17/20\n",
      "21/21 [==============================] - 0s 10ms/step - loss: 0.9059 - accuracy: 0.5639 - val_loss: 1.0326 - val_accuracy: 0.4601\n",
      "Epoch 18/20\n",
      "21/21 [==============================] - 0s 10ms/step - loss: 0.8907 - accuracy: 0.5655 - val_loss: 1.0289 - val_accuracy: 0.4540\n",
      "Epoch 19/20\n",
      "21/21 [==============================] - 0s 11ms/step - loss: 0.8583 - accuracy: 0.6194 - val_loss: 1.0508 - val_accuracy: 0.4724\n"
     ]
    },
    {
     "name": "stderr",
     "output_type": "stream",
     "text": [
      "WARNING:absl:Found untraced functions such as _jit_compiled_convolution_op, _jit_compiled_convolution_op, _update_step_xla while saving (showing 3 of 3). These functions will not be directly callable after loading.\n"
     ]
    },
    {
     "name": "stdout",
     "output_type": "stream",
     "text": [
      "INFO:tensorflow:Assets written to: savedModels/CNN_Model\\assets\n"
     ]
    },
    {
     "name": "stderr",
     "output_type": "stream",
     "text": [
      "INFO:tensorflow:Assets written to: savedModels/CNN_Model\\assets\n"
     ]
    },
    {
     "name": "stdout",
     "output_type": "stream",
     "text": [
      "6/6 [==============================] - 0s 8ms/step\n",
      "              precision    recall  f1-score   support\n",
      "\n",
      "           0       0.50      0.63      0.56        52\n",
      "           1       0.38      0.30      0.33        54\n",
      "           2       0.51      0.49      0.50        57\n",
      "\n",
      "    accuracy                           0.47       163\n",
      "   macro avg       0.46      0.47      0.46       163\n",
      "weighted avg       0.46      0.47      0.46       163\n",
      "\n"
     ]
    }
   ],
   "source": [
    "from keras.preprocessing.text import Tokenizer\n",
    "from keras.utils import pad_sequences\n",
    "from keras.models import Sequential\n",
    "from keras.utils import to_categorical\n",
    "from keras.layers import Embedding, Conv1D, MaxPooling1D, Flatten, Dense\n",
    "from keras.wrappers.scikit_learn import KerasClassifier\n",
    "from sklearn.model_selection import GridSearchCV\n",
    "\n",
    "MAX_NB_WORDS = 20000\n",
    "MAX_SEQUENCE_LENGTH = 100\n",
    "training_corpus=hatefulCorpus + nHatefulCorpus + neutralCorpus\n",
    "\n",
    "embeddings_index = {}\n",
    "\n",
    "#Download Glove from http://nlp.stanford.edu/data/glove.6B.zip\n",
    "with open('glove.6B.100d.txt', 'r', encoding='utf-8') as f:\n",
    "    for line in f:\n",
    "        values = line.split()\n",
    "        word = values[0]\n",
    "        coefs = np.asarray(values[1:], dtype='float32')\n",
    "        embeddings_index[word] = coefs\n",
    "\n",
    "tokenizer = Tokenizer(num_words=MAX_NB_WORDS)\n",
    "tokenizer.fit_on_texts(training_corpus)\n",
    "word_index = tokenizer.word_index\n",
    "\n",
    "with open('tokenizer.pickle', 'wb') as handle:\n",
    "    pickle.dump(tokenizer, handle, protocol=pickle.HIGHEST_PROTOCOL)\n",
    "    \n",
    "X = tokenizer.texts_to_sequences(training_corpus)\n",
    "X = pad_sequences(X, maxlen=MAX_SEQUENCE_LENGTH)\n",
    "\n",
    "y = np.array([0] * len(hatefulCorpus) + [1] * len(nHatefulCorpus) + [2] * len(neutralCorpus))\n",
    "y = to_categorical(y, num_classes=3)\n",
    "size = len(word_index)\n",
    "embedding_matrix = np.zeros((size + 1, 100))\n",
    "for word, i in word_index.items():\n",
    "    embedding_vector = embeddings_index.get(word)\n",
    "    if embedding_vector is not None:\n",
    "        embedding_matrix[i] = embedding_vector\n",
    "        \n",
    "X_train, X_val, y_train, y_val = train_test_split(X, y, test_size=0.2, random_state=42)\n",
    "\n",
    "def create_model(optimizer='adam', filters=32, kernel_size=3, dropout_rate=0.5):\n",
    "    model = Sequential()\n",
    "    model.add(Embedding(size + 1, 100, weights=[embedding_matrix], input_length=MAX_SEQUENCE_LENGTH, trainable=False))\n",
    "    model.add(Conv1D(filters, kernel_size, activation='relu'))\n",
    "    model.add(MaxPooling1D(3))\n",
    "    model.add(Dropout(dropout_rate))\n",
    "    model.add(Conv1D(filters*2, kernel_size, activation='relu'))\n",
    "    model.add(MaxPooling1D(5))\n",
    "    model.add(Dropout(dropout_rate))\n",
    "    model.add(Flatten())\n",
    "    model.add(Dense(filters*2, activation='relu'))\n",
    "    model.add(Dense(3, activation='softmax'))\n",
    "    model.compile(loss='categorical_crossentropy', optimizer=optimizer, metrics=['accuracy'])\n",
    "    return model\n",
    "\n",
    "#model = KerasClassifier(build_fn=create_model, verbose=0)\n",
    "\n",
    "#param_grid = {\n",
    "#    'optimizer': ['adam', 'rmsprop'],\n",
    "#    'filters': [16, 32, 64, 128],\n",
    "#    'kernel_size': [3, 5],\n",
    "#    'dropout_rate': [0.3, 0.5]\n",
    "#}\n",
    "\n",
    "#grid = GridSearchCV(estimator=model, param_grid=param_grid, n_jobs=-1, cv=3)\n",
    "\n",
    "#grid_result = grid.fit(X_train, y_train)\n",
    "\n",
    "#print(\"Best Parameters: \", grid_result.best_params_)\n",
    "#print(\"Best Score: \", grid_result.best_score_)\n",
    "\n",
    "early_stopping = EarlyStopping(monitor='val_loss', patience=3)\n",
    "model = create_model(optimizer='adam', filters=16, kernel_size=3, dropout_rate=0.3)\n",
    "model.fit(X_train, y_train, validation_data=(X_val, y_val), epochs=20, batch_size=32, callbacks=[early_stopping])\n",
    "model.save('savedModels/CNN_Model')\n",
    "\n",
    "y_pred = model.predict(X_val)\n",
    "y_pred_classes = np.argmax(y_pred, axis=1)\n",
    "y_true = np.argmax(y_val, axis=1)\n",
    "report = classification_report(y_true, y_pred_classes)\n",
    "print(report)"
   ]
  },
  {
   "cell_type": "code",
   "execution_count": 12,
   "id": "625f3e85",
   "metadata": {},
   "outputs": [
    {
     "name": "stdout",
     "output_type": "stream",
     "text": [
      "1/1 [==============================] - 0s 148ms/step\n",
      "The predicted class for 'All immigrants should be deported to where they came from.' is: 0\n"
     ]
    }
   ],
   "source": [
    "testText = \"All immigrants should be deported to where they came from.\"\n",
    "testSequence = tokenizer.texts_to_sequences([testText])\n",
    "testSequence = pad_sequences(testSequence, maxlen=MAX_SEQUENCE_LENGTH)\n",
    "loadedModel = tf.keras.models.load_model('savedModels/CNN_Model')\n",
    "prediction = loadedModel.predict(testSequence)\n",
    "predictedClass = np.argmax(prediction)\n",
    "print(f\"The predicted class for '{testText}' is: {predictedClass}\")"
   ]
  },
  {
   "cell_type": "code",
   "execution_count": 11,
   "id": "bdaddd54",
   "metadata": {},
   "outputs": [
    {
     "name": "stdout",
     "output_type": "stream",
     "text": [
      "['Bring us victory for all europeans', \"Is Ireland having a low birthrate problem?? So they are welcoming immigrants from everywhere. These migrants dont come to Ireland to become an Irish citizen, they just want free stuff and want to take over neighborhoods that were Irish for thousands of years. Is England the problem with its immigration policies?? England has always tried to force its will von Ireland. Countries in Europe need to come together and form a new country with closed borders, including a fuel abundant nation. Purge out all the migrants that don't picth in, including violent prisoners from outside countries. I some small protests happening that the media calls white supremacists. Being a proud iresh person is called a racist. Here in the states your name a white supremacist for hanging the nations flag on your property, celebrateing the 4th of July, going to church and believing in God. Oh lets not forget being a white male , makes you a bigot, oh wait our president is a white male, the Hippocracy is maddening\", 'It is always the working class people who have to be the ragged trousered philanthropists . Working class people have to pay the price of the policies of the met elite who can always buy themselves out of trouble .  Strangely none of this is reported in the MSM in the UK .', 'Don\\'t let them in, they will ruin your country, your city. Do not be fooled or shamed by people calling you racist, you are not. There is nothing racist about not wanting your country to be destroyed especially as your country has endured through so much. It\\'s worth keeping. There is literally not ONE SINGLE PLACE that has had this recent \"immigration\"  forced upon them has has benefited by ANY metric. They will come if you don\\'t fight it, and they will make your country unrecognizable in no time. The people who are for this ONLY realize how naive they\\'ve been when it\\'s too late. Dont fall for it.', 'Ireland for the Irish. F globalism', 'Respect for the irish.  I wish the British would also protest', 'I wonder how many people Know that Ireland for the last few years is the only country in the world offering foreign students from any and every country the chance to come and study in Ireland and once they finish If they remain and work for 2 years they will be given Irish citizenship but if you check this there are thousands who said they came to Ireland dropped out of college after 2 years and were still given their citizenship then couple this with the rights they then have as Irish citizens to repatriate their family’s to Ireland and you will see the problem crystal clear.\\nWhat this basically means is that the population of Ireland is deemed to low by our owners in Brussels so we need to probably double our population in anyway we can.\\nIf mass immigration bothers you you need to get over it asap because by 2030 Ireland will look and feel nothing like it has done for the past 1000 years and we need to find a way to make it work people because the folks behind this population rise are doing it for a more sinister end.\\nTheir problem with my country is it’s to white and just like Peter Sutherland the deceased ex CEO of G Sachs said “the entire white race needs to be enslaved”', \"Imagine being one of the few Western European countries that didn't colonize or wage war over third world countries, but still forced to accept immigrations from there. Double L for Ireland\", 'Every night out clubbing and having a laugh should be a night of protest.', \"There's no equivalence with irish migration. They never turned up uninvited\", 'Respect for ireland', 'Well done Ireland ,  you have the back ground should it escalate.  \\nIf only Britain could show enough similar backbone but apathy and fear is the real virus and always was.', \"Get em out of native Australia and America haha that's a real situation of immigrants taking over a continent\", \"Politicians pimp out the women of European and western countries, as a way to lure more third world migrants. It's absolutely disgusting and every woman should be outraged at how their govts are willing to endanger their lives and use them as a commodity, to bargain with. The fact that a lot of these politicians have daughters, sisters and mothers of their own, makes it even worse. It's absolutely disgusting how men are so keen to get other men laid, at the expense of even their families...\", 'I wonder how many of these inner city protesters live of government handouts?', 'varadkars an arab he hates irish people😢', 'Irish people need to unite as one. Joint up protests, joined up political and individuak targeting of those who are promoting and supporting these policies. Get them out of office whether they are a Councillor or MP, or even companies.', 'Send all racists irish or british to ruanda they forever sound thick when they open the mouth that the Lord gave them', 'We’ve had our problems in the past but the British people ,not them toe rags in power ,(cos they don’t give a F### about us either ),the British people are with you Ireland .never surrender.❤❤❤', 'My ❤bloody well bleeds for the Irish people', '\"I Hear You\\'re A Racist Now, Father! - Father Ted\"', 'Mrs Alexandra the bitcoin trader is legit and her method works like magic I keep on earning every single week with her new strategy', 'fucking bots 💀', 'Tell her I referred her to you', 'Her FB name ☝️', 'Alexandra S Davis', 'Thanks alot I just sent her a message and she attended to me nicely such a nice woman 💓', \"Thanks to you all for your testimonies, it has helped me greatly I thought they were not real but I will now boldy testify... she's strategies is... Read more\", 'Yes but do you know l have been paid out today  🥰', \"Anyone who she handles he's or her trade for l believe is so lucky 🥳\", 'Her method Surprises me. When I saw testimonies all over the place I thought it was made up stories till I was convinced and gave it a tr... Read more', 'Her TELEGRAM name ☝️', '@Alexandra_S_Davis2', \"Please how can I reach this Mrs Alexandra S Davis? I've already lost enough of money trading for myself\", \"Those scammers they promise to make up to $50,000 profit within the space of 7 days with just $500 to invest and end up not even refunding your capital but she's a woman of integrity, with $600 she will tell you she can only make profit within the range of $4000 to $8,900 and she actually delivers.... she's great\", \"My first experience with her gave me the assurance that has made me to invest without fear of loosing\\nShe's awesome... Read more\", 'A friend that I referred to her just received $7,050 profit after 9 days of investing....I became jealous.. lol', \"She's not like other brokers that will start telling you stories and excuses why they trade didn't go well after collecting your money\", \"She's the key to crypto\\nShe really made name for herself\", 'She’s technical analysis is dope and her interpretation/projections of the market is so accurate I sometimes ask myself if she is human haha. Point ... Read more', \"I'm now a creditor not debtor anymore\", \"I'm from Australia 🇦🇺 I used to take loan from the bank for surviver but after trading with expert Mrs Alexandra she changed my financial status for real\", 'A beautiful country destroyed by illegals all with the blessing of the Irish government. I feel sorry for the people especially women but also the farm animals.', \"This is what they do they label you racist to make you think that you are the one with the problem but it's the policy's of Europe and governments\", 'They are right wing but today i see no problem with that. Since that the left is increasingly becoming insane that even i as a life long leftist have completely changed my view...', 'Would love to see this in England as well. This uncontrolled immigration has to stop and the government needs to start looking after their own, not everyones elses apart from our own.', 'Far from right.', 'They are putting these illegal economic migrants in hotel rooms giving them cell phones in America. I cannot wait till people are fed up enough to take physical action', 'No one has been sent to Rawanda yet, we live in hope they are, sooner the better', 'Governments do not care about people.']\n"
     ]
    }
   ],
   "source": [
    "import random\n",
    "\n",
    "num_texts = 50  # Number of texts to fetch\n",
    "\n",
    "testCorpus = []\n",
    "with open(\"firstIter.csv\", \"r\", encoding=\"utf-8\") as file:\n",
    "    reader = csv.DictReader(file)\n",
    "    texts = [row[\"Comment Text\"] for row in reader if row[\"Comment Text\"]]\n",
    "    print(texts[:num_texts])\n",
    "    random.shuffle(texts)  # Shuffle the texts randomly\n",
    "    for text in texts[:num_texts]:\n",
    "        try:\n",
    "            lang = detect(text)\n",
    "        except:\n",
    "            lang = \"\"\n",
    "        if lang == \"en\":\n",
    "            newText = text.strip()\n",
    "            newText = replace_emojis(newText, emoji_dict)\n",
    "            newText = preprocess_text(newText)\n",
    "            testCorpus.append(newText)"
   ]
  },
  {
   "cell_type": "code",
   "execution_count": 10,
   "id": "f9ab66aa",
   "metadata": {},
   "outputs": [
    {
     "name": "stdout",
     "output_type": "stream",
     "text": [
      "45\n",
      "2/2 [==============================] - 0s 4ms/step\n",
      "{'Hateful': 17, 'Non-Hateful': 12, 'Neutral': 16}\n"
     ]
    },
    {
     "data": {
      "image/png": "[encoded data removed]",
      "text/plain": [
       "<Figure size 640x480 with 1 Axes>"
      ]
     },
     "metadata": {},
     "output_type": "display_data"
    }
   ],
   "source": [
    "MAX_SEQUENCE_LENGTH = 100\n",
    "class_labels = ['Hateful', 'Non-Hateful', 'Neutral']\n",
    "print(len(testCorpus))\n",
    "\n",
    "# Load the tokenizer from the saved file\n",
    "with open('tokenizer.pickle', 'rb') as handle:\n",
    "    tokenizer = pickle.load(handle)\n",
    "\n",
    "# Preprocess the test corpus\n",
    "input_sequences = tokenizer.texts_to_sequences(testCorpus)\n",
    "padded_sequences = tf.keras.preprocessing.sequence.pad_sequences(input_sequences, maxlen=MAX_SEQUENCE_LENGTH)\n",
    "\n",
    "# Load the model\n",
    "loaded_model = tf.keras.models.load_model('savedModels/CNN_Model')\n",
    "\n",
    "# Make predictions on the padded sequences\n",
    "predictions = loaded_model.predict(padded_sequences)\n",
    "predicted_classes = np.argmax(predictions, axis=1)\n",
    "\n",
    "# Count the predictions for each class\n",
    "prediction_summary = {label: 0 for label in class_labels}\n",
    "for predicted_class in predicted_classes:\n",
    "    predicted_label = class_labels[predicted_class]\n",
    "    prediction_summary[predicted_label] += 1\n",
    "\n",
    "print(prediction_summary)\n",
    "# Prepare data for bar chart\n",
    "labels = list(prediction_summary.keys())\n",
    "values = list(prediction_summary.values())\n",
    "\n",
    "# Plot the bar chart\n",
    "plt.bar(labels, values)\n",
    "plt.xlabel('Predicted Class')\n",
    "plt.ylabel('Count')\n",
    "plt.title('Prediction Summary')\n",
    "for i, v in enumerate(values):\n",
    "    plt.text(i, v, str(v), ha='center', va='bottom')\n",
    "plt.show()\n"
   ]
  },
  {
   "cell_type": "code",
   "execution_count": 14,
   "id": "92c6f001",
   "metadata": {},
   "outputs": [
    {
     "data": {
      "text/plain": [
       "array([  0,   0,   0,   0,   0,   0,   0,   0,   0,   0,   0,   0,   0,\n",
       "         0,   0,   0,   0,   0,   0,   0,   0,   0,   0,   0,   0,   0,\n",
       "         0,   0,   0,   0,   0,   0,   0,   0,   0,   0,   0,   0,   0,\n",
       "         0,   0,   0,   0,   0,   0,   0,   0,   0,   0,   0,   0,   0,\n",
       "         0,   0,   0,   0,   0,   0,   0,   0,   0,   0,   0,   0,   0,\n",
       "         0,   0,   0,   0,   0,   0,   0,   0,   0,   0,   0,   0,   0,\n",
       "         0,   0,   0,   0,   0,   0,   0,   0,   0,   0,  25,  20,   2,\n",
       "       861, 340, 665,  32, 455,  20, 460,  26,  84])"
      ]
     },
     "execution_count": 14,
     "metadata": {},
     "output_type": "execute_result"
    }
   ],
   "source": [
    "padded_sequences[3]"
   ]
  }
 ],
 "metadata": {
  "kernelspec": {
   "display_name": "Python 3 (ipykernel)",
   "language": "python",
   "name": "python3"
  },
  "language_info": {
   "codemirror_mode": {
    "name": "ipython",
    "version": 3
   },
   "file_extension": ".py",
   "mimetype": "text/x-python",
   "name": "python",
   "nbconvert_exporter": "python",
   "pygments_lexer": "ipython3",
   "version": "3.10.6"
  }
 },
 "nbformat": 4,
 "nbformat_minor": 5
}
