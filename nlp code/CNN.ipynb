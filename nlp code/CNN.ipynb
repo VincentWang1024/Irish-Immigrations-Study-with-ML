{
 "cells": [
  {
   "cell_type": "code",
   "execution_count": 1,
   "id": "f93e9a84",
   "metadata": {},
   "outputs": [
    {
     "name": "stderr",
     "output_type": "stream",
     "text": [
      "[nltk_data] Downloading package stopwords to\n",
      "[nltk_data]     C:\\Users\\babyj\\AppData\\Roaming\\nltk_data...\n",
      "[nltk_data]   Package stopwords is already up-to-date!\n",
      "[nltk_data] Downloading package averaged_perceptron_tagger to\n",
      "[nltk_data]     C:\\Users\\babyj\\AppData\\Roaming\\nltk_data...\n",
      "[nltk_data]   Package averaged_perceptron_tagger is already up-to-\n",
      "[nltk_data]       date!\n",
      "[nltk_data] Downloading package wordnet to\n",
      "[nltk_data]     C:\\Users\\babyj\\AppData\\Roaming\\nltk_data...\n",
      "[nltk_data]   Package wordnet is already up-to-date!\n"
     ]
    },
    {
     "data": {
      "text/plain": [
       "True"
      ]
     },
     "execution_count": 1,
     "metadata": {},
     "output_type": "execute_result"
    }
   ],
   "source": [
    "import nltk\n",
    "from nltk.corpus import stopwords\n",
    "from nltk.tokenize import word_tokenize\n",
    "from nltk.probability import FreqDist\n",
    "import os.path\n",
    "from nltk.stem import PorterStemmer, WordNetLemmatizer\n",
    "from nltk.corpus import wordnet\n",
    "from nltk import pos_tag\n",
    "import numpy as np\n",
    "import re\n",
    "import math\n",
    "import pandas as pd\n",
    "import csv\n",
    "import pickle\n",
    "from tensorflow.keras.models import Sequential\n",
    "from tensorflow.keras.layers import Embedding, Conv1D, Dense, Dropout, Flatten\n",
    "from tensorflow.keras.callbacks import EarlyStopping\n",
    "from sklearn.model_selection import train_test_split\n",
    "from langdetect import detect\n",
    "import tensorflow as tf\n",
    "import matplotlib.pyplot as plt\n",
    "from sklearn.metrics import classification_report\n",
    "from pymongo import MongoClient\n",
    "import emoji\n",
    "import mysql.connector\n",
    "\n",
    "nltk.download('stopwords')\n",
    "nltk.download('averaged_perceptron_tagger')\n",
    "nltk.download('wordnet')"
   ]
  },
  {
   "cell_type": "code",
   "execution_count": 3,
   "id": "21494d11",
   "metadata": {},
   "outputs": [],
   "source": [
    "emoji_dict = {}\n",
    "with open('emoji.txt', 'r', encoding='latin-1') as emoji_file:\n",
    "    for line in emoji_file:\n",
    "        line = line.strip()\n",
    "        if line:\n",
    "            emoji, value = line.split('\\t')\n",
    "            emoji_dict[emoji] = int(value)"
   ]
  },
  {
   "cell_type": "code",
   "execution_count": 4,
   "id": "91106086",
   "metadata": {},
   "outputs": [],
   "source": [
    "def replace_emojis(text, emoji_dict):\n",
    "    for emoji, value in emoji_dict.items():\n",
    "        if value == 1:\n",
    "            text = re.sub(re.escape(emoji), 'happy', text)\n",
    "        elif value == -1:\n",
    "            text = re.sub(re.escape(emoji), 'sad', text)\n",
    "    return text"
   ]
  },
  {
   "cell_type": "code",
   "execution_count": 5,
   "id": "f1ac01d9",
   "metadata": {},
   "outputs": [],
   "source": [
    "#vincent\n",
    "def get_wordnet_pos(treebank_tag):\n",
    "    if treebank_tag.startswith('J'):\n",
    "        return wordnet.ADJ\n",
    "    elif treebank_tag.startswith('V'):\n",
    "        return wordnet.VERB\n",
    "    elif treebank_tag.startswith('N'):\n",
    "        return wordnet.NOUN\n",
    "    elif treebank_tag.startswith('R'):\n",
    "        return wordnet.ADV\n",
    "    else:\n",
    "        return None\n",
    "    \n",
    "def preprocess_text(text):\n",
    "    text = text.lower()\n",
    "    text = re.sub(r\"[^a-zA-Z0-9\\s]\", \"\", text)\n",
    "    words = word_tokenize(text)\n",
    "    stemmer = PorterStemmer()\n",
    "    words = [stemmer.stem(word) for word in words]\n",
    "    lemmatizer = WordNetLemmatizer()\n",
    "    tagged = pos_tag(words)\n",
    "    words = [lemmatizer.lemmatize(word, pos=get_wordnet_pos(pos)) if get_wordnet_pos(pos) else word for word, pos in tagged]\n",
    "    stop_words = set(stopwords.words('english'))\n",
    "    filtered_words = [word for word in words if word not in stop_words]\n",
    "    return ' '.join(filtered_words)\n",
    "\n",
    "hatefulCorpus=[]\n",
    "nHatefulCorpus=[]\n",
    "neutralCorpus=[]\n",
    "with open(\"firstIter.csv\", \"r\", encoding=\"utf-8\") as file:\n",
    "    reader = csv.DictReader(file)\n",
    "    for row in reader:\n",
    "        if not all(value == \"\" for value in row.values()):\n",
    "            text = row[\"Comment Text\"]\n",
    "            if text == \"\":\n",
    "                continue\n",
    "            label = row[\"Label\"]\n",
    "            if label == \"\":\n",
    "                continue\n",
    "            try:\n",
    "                lang=detect(text)\n",
    "            except:\n",
    "                lang = \"\"\n",
    "            if lang != \"en\":\n",
    "                continue\n",
    "            newText = text.strip()\n",
    "            newText = replace_emojis(newText, emoji_dict)\n",
    "            newText = preprocess_text(newText)\n",
    "            if label=='Neutral':\n",
    "                neutralCorpus.append(newText)\n",
    "            elif label=='Hateful':\n",
    "                hatefulCorpus.append(newText)\n",
    "            else:\n",
    "                nHatefulCorpus.append(newText)"
   ]
  },
  {
   "cell_type": "markdown",
   "id": "1df7757e",
   "metadata": {},
   "source": [
    "## Implementing CNN using Glove Embedding"
   ]
  },
  {
   "cell_type": "code",
   "execution_count": 5,
   "id": "cfb272ef",
   "metadata": {},
   "outputs": [
    {
     "name": "stdout",
     "output_type": "stream",
     "text": [
      "nutral = 269 nhateful = 273 hateful = 272\n"
     ]
    }
   ],
   "source": [
    "hatefulCorpus = hatefulCorpus[:272]\n",
    "print(\"nutral = \"+str(len(neutralCorpus))+\" nhateful = \"+str(len(nHatefulCorpus))+\" hateful = \"+str(len(hatefulCorpus)))"
   ]
  },
  {
   "cell_type": "code",
   "execution_count": 7,
   "id": "e6125e7c",
   "metadata": {},
   "outputs": [
    {
     "name": "stdout",
     "output_type": "stream",
     "text": [
      "Epoch 1/40\n",
      "21/21 [==============================] - 2s 24ms/step - loss: 1.1096 - accuracy: 0.3671 - val_loss: 1.0992 - val_accuracy: 0.3988\n",
      "Epoch 2/40\n",
      "21/21 [==============================] - 0s 12ms/step - loss: 1.0892 - accuracy: 0.3856 - val_loss: 1.0774 - val_accuracy: 0.4479\n",
      "Epoch 3/40\n",
      "21/21 [==============================] - 0s 12ms/step - loss: 1.0882 - accuracy: 0.3917 - val_loss: 1.0741 - val_accuracy: 0.3681\n",
      "Epoch 4/40\n",
      "21/21 [==============================] - 0s 12ms/step - loss: 1.0665 - accuracy: 0.4132 - val_loss: 1.0582 - val_accuracy: 0.4356\n",
      "Epoch 5/40\n",
      "21/21 [==============================] - 0s 12ms/step - loss: 1.0604 - accuracy: 0.4378 - val_loss: 1.0483 - val_accuracy: 0.4110\n",
      "Epoch 6/40\n",
      "21/21 [==============================] - 0s 13ms/step - loss: 1.0391 - accuracy: 0.4531 - val_loss: 1.0446 - val_accuracy: 0.4294\n",
      "Epoch 7/40\n",
      "21/21 [==============================] - 0s 12ms/step - loss: 1.0178 - accuracy: 0.4777 - val_loss: 1.0401 - val_accuracy: 0.4233\n",
      "Epoch 8/40\n",
      "21/21 [==============================] - 0s 12ms/step - loss: 1.0005 - accuracy: 0.4716 - val_loss: 1.0360 - val_accuracy: 0.4663\n",
      "Epoch 9/40\n",
      "21/21 [==============================] - 0s 12ms/step - loss: 0.9611 - accuracy: 0.5346 - val_loss: 1.0402 - val_accuracy: 0.4233\n",
      "Epoch 10/40\n",
      "21/21 [==============================] - 0s 12ms/step - loss: 0.9474 - accuracy: 0.5376 - val_loss: 1.0386 - val_accuracy: 0.4417\n",
      "Epoch 11/40\n",
      "21/21 [==============================] - 0s 13ms/step - loss: 0.8880 - accuracy: 0.5714 - val_loss: 1.0508 - val_accuracy: 0.3926\n"
     ]
    },
    {
     "name": "stderr",
     "output_type": "stream",
     "text": [
      "WARNING:absl:Found untraced functions such as _jit_compiled_convolution_op, _jit_compiled_convolution_op, _update_step_xla while saving (showing 3 of 3). These functions will not be directly callable after loading.\n"
     ]
    },
    {
     "name": "stdout",
     "output_type": "stream",
     "text": [
      "INFO:tensorflow:Assets written to: savedModels/CNN_Model\\assets\n"
     ]
    },
    {
     "name": "stderr",
     "output_type": "stream",
     "text": [
      "INFO:tensorflow:Assets written to: savedModels/CNN_Model\\assets\n"
     ]
    },
    {
     "name": "stdout",
     "output_type": "stream",
     "text": [
      "6/6 [==============================] - 0s 5ms/step\n",
      "              precision    recall  f1-score   support\n",
      "\n",
      "           0       0.40      0.38      0.39        52\n",
      "           1       0.32      0.25      0.28        53\n",
      "           2       0.43      0.53      0.48        58\n",
      "\n",
      "    accuracy                           0.39       163\n",
      "   macro avg       0.38      0.39      0.38       163\n",
      "weighted avg       0.38      0.39      0.38       163\n",
      "\n"
     ]
    }
   ],
   "source": [
    "from keras.preprocessing.text import Tokenizer\n",
    "from keras.utils import pad_sequences\n",
    "from keras.models import Sequential\n",
    "from keras.utils import to_categorical\n",
    "from keras.layers import Embedding, Conv1D, MaxPooling1D, Flatten, Dense\n",
    "from keras.wrappers.scikit_learn import KerasClassifier\n",
    "from sklearn.model_selection import GridSearchCV\n",
    "\n",
    "MAX_NB_WORDS = 20000\n",
    "MAX_SEQUENCE_LENGTH = 100\n",
    "training_corpus=hatefulCorpus + nHatefulCorpus + neutralCorpus\n",
    "\n",
    "embeddings_index = {}\n",
    "\n",
    "#Download Glove from http://nlp.stanford.edu/data/glove.6B.zip\n",
    "with open('embedding_models/glove.6B.100d.txt', 'r', encoding='utf-8') as f:\n",
    "    for line in f:\n",
    "        values = line.split()\n",
    "        word = values[0]\n",
    "        coefs = np.asarray(values[1:], dtype='float32')\n",
    "        embeddings_index[word] = coefs\n",
    "\n",
    "tokenizer = Tokenizer(num_words=MAX_NB_WORDS)\n",
    "tokenizer.fit_on_texts(training_corpus)\n",
    "word_index = tokenizer.word_index\n",
    "\n",
    "with open('tokenizer.pickle', 'wb') as handle:\n",
    "    pickle.dump(tokenizer, handle, protocol=pickle.HIGHEST_PROTOCOL)\n",
    "    \n",
    "X = tokenizer.texts_to_sequences(training_corpus)\n",
    "X = pad_sequences(X, maxlen=MAX_SEQUENCE_LENGTH)\n",
    "\n",
    "y = np.array([0] * len(hatefulCorpus) + [1] * len(nHatefulCorpus) + [2] * len(neutralCorpus))\n",
    "y = to_categorical(y, num_classes=3)\n",
    "size = len(word_index)\n",
    "embedding_matrix = np.zeros((size + 1, 100))\n",
    "for word, i in word_index.items():\n",
    "    embedding_vector = embeddings_index.get(word)\n",
    "    if embedding_vector is not None:\n",
    "        embedding_matrix[i] = embedding_vector\n",
    "        \n",
    "X_train, X_val, y_train, y_val = train_test_split(X, y, test_size=0.2, random_state=42)\n",
    "\n",
    "def create_model(optimizer='adam', filters=32, kernel_size=3, dropout_rate=0.5):\n",
    "    model = Sequential()\n",
    "    model.add(Embedding(size + 1, 100, weights=[embedding_matrix], input_length=MAX_SEQUENCE_LENGTH, trainable=False))\n",
    "    model.add(Conv1D(filters, kernel_size, activation='relu'))\n",
    "    model.add(MaxPooling1D(3))\n",
    "    model.add(Dropout(dropout_rate))\n",
    "    model.add(Conv1D(filters*2, kernel_size, activation='relu'))\n",
    "    model.add(MaxPooling1D(5))\n",
    "    model.add(Dropout(dropout_rate))\n",
    "    model.add(Flatten())\n",
    "    model.add(Dense(filters*2, activation='relu'))\n",
    "    model.add(Dense(3, activation='softmax'))\n",
    "    model.compile(loss='categorical_crossentropy', optimizer=optimizer, metrics=['accuracy'])\n",
    "    return model\n",
    "\n",
    "#model = KerasClassifier(build_fn=create_model, verbose=0)\n",
    "\n",
    "#param_grid = {\n",
    "#    'optimizer': ['adam', 'rmsprop'],\n",
    "#    'filters': [16, 32, 64, 128],\n",
    "#    'kernel_size': [3, 5],\n",
    "#    'dropout_rate': [0.3, 0.5]\n",
    "#}\n",
    "\n",
    "#grid = GridSearchCV(estimator=model, param_grid=param_grid, n_jobs=-1, cv=3)\n",
    "\n",
    "#grid_result = grid.fit(X_train, y_train)\n",
    "\n",
    "#print(\"Best Parameters: \", grid_result.best_params_)\n",
    "#print(\"Best Score: \", grid_result.best_score_)\n",
    "\n",
    "early_stopping = EarlyStopping(monitor='val_loss', patience=3)\n",
    "model = create_model(optimizer='adam', filters=32, kernel_size=3, dropout_rate=0.3)\n",
    "model.fit(X_train, y_train, validation_data=(X_val, y_val), epochs=40, batch_size=32, callbacks=[early_stopping])\n",
    "model.save('savedModels/CNN_Model')\n",
    "\n",
    "y_pred = model.predict(X_val)\n",
    "y_pred_classes = np.argmax(y_pred, axis=1)\n",
    "y_true = np.argmax(y_val, axis=1)\n",
    "report = classification_report(y_true, y_pred_classes)\n",
    "print(report)"
   ]
  },
  {
   "cell_type": "code",
   "execution_count": 6,
   "id": "bdaddd54",
   "metadata": {},
   "outputs": [],
   "source": [
    "import random\n",
    "\n",
    "num_texts = 50  # Number of texts to fetch\n",
    "testCorpus = []\n",
    "\n",
    "with open(\"firstIter.csv\", \"r\", encoding=\"utf-8\") as file:\n",
    "    reader = csv.DictReader(file)\n",
    "    texts = [row[\"Comment Text\"] for row in reader if row[\"Comment Text\"]]\n",
    "    random.shuffle(texts)\n",
    "    for text in texts:\n",
    "        try:\n",
    "            lang = detect(text)\n",
    "        except:\n",
    "            lang = \"\"\n",
    "        if lang == \"en\":\n",
    "            newText = text.strip()\n",
    "            newText = replace_emojis(newText, emoji_dict)\n",
    "            newText = preprocess_text(newText)\n",
    "            testCorpus.append(newText)\n",
    "            if len(testCorpus) == num_texts:\n",
    "                break"
   ]
  },
  {
   "cell_type": "code",
   "execution_count": 15,
   "id": "45188a40",
   "metadata": {},
   "outputs": [],
   "source": [
    "# Converting to wordEmbeddings\n",
    "# Load the tokenizer from the saved file\n",
    "with open('tokenizer.pickle', 'rb') as handle:\n",
    "    tokenizer = pickle.load(handle)\n",
    "input_sequences = tokenizer.texts_to_sequences(testCorpus)\n",
    "padded_sequences = tf.keras.preprocessing.sequence.pad_sequences(input_sequences, maxlen=MAX_SEQUENCE_LENGTH)"
   ]
  },
  {
   "cell_type": "markdown",
   "id": "c1006494",
   "metadata": {},
   "source": [
    "## MySQL Operations"
   ]
  },
  {
   "cell_type": "code",
   "execution_count": 20,
   "id": "c4e250a8",
   "metadata": {},
   "outputs": [],
   "source": [
    "def embeddings_dict(testCorpus, padded_sequences, dim=100):\n",
    "    for i in range(len(padded_sequences)):\n",
    "        yield (str(testCorpus[i]), padded_sequences[i])"
   ]
  },
  {
   "cell_type": "code",
   "execution_count": 21,
   "id": "dce628a9",
   "metadata": {},
   "outputs": [],
   "source": [
    "import io\n",
    "def adapt_array(array):\n",
    "    out = io.BytesIO()\n",
    "    np.save(out, array)\n",
    "    out.seek(0)\n",
    "    return out.read()\n",
    "\n",
    "def convert_array(blob):\n",
    "    out = io.BytesIO(blob)\n",
    "    out.seek(0)\n",
    "\n",
    "    return np.load(out)"
   ]
  },
  {
   "cell_type": "code",
   "execution_count": 48,
   "id": "58d1b622",
   "metadata": {},
   "outputs": [],
   "source": [
    "connection = mysql.connector.connect(\n",
    "    user='root',\n",
    "    password='bbqsauce',\n",
    "    host='localhost',\n",
    "    port=3306,\n",
    "    database='CNNTest'\n",
    ")\n",
    "\n",
    "cursor = connection.cursor()\n",
    "cursor.execute('CREATE TABLE IF NOT EXISTS `word_embeddings` (`id` INT NOT NULL PRIMARY KEY AUTO_INCREMENT, `hash` INT NOT NULL, `sentence` TEXT, `embedding` BLOB, `timestamp` DATETIME);')\n",
    "connection.commit()"
   ]
  },
  {
   "cell_type": "markdown",
   "id": "74d81af0",
   "metadata": {},
   "source": [
    "### Inserting into database"
   ]
  },
  {
   "cell_type": "code",
   "execution_count": 49,
   "id": "3152b0db",
   "metadata": {},
   "outputs": [],
   "source": [
    "from datetime import datetime\n",
    "import random\n",
    "uniqueId=random.randint(10000, 99999)\n",
    "timestamp = datetime.now().strftime('%Y-%m-%d %H:%M:%S')\n",
    "for key, emb in embeddings_dict(testCorpus, padded_sequences, 100):\n",
    "    arr = adapt_array(emb)\n",
    "    cursor.execute('INSERT INTO `word_embeddings` (`hash`, `sentence`, `embedding`, `timestamp`) VALUES (%s, %s, %s, %s);', (uniqueId, key, arr, timestamp))\n",
    "    connection.commit()"
   ]
  },
  {
   "cell_type": "markdown",
   "id": "6feb701e",
   "metadata": {},
   "source": [
    "### Retrieving from DB"
   ]
  },
  {
   "cell_type": "code",
   "execution_count": 50,
   "id": "1f3bf043",
   "metadata": {},
   "outputs": [],
   "source": [
    "cursor.execute('SELECT `sentence`, `embedding` FROM `word_embeddings` WHERE `hash` = %s;', (uniqueId,))\n",
    "results = cursor.fetchall()\n",
    "embeddings_dict = {}\n",
    "padded_sequences = []\n",
    "\n",
    "for row in results:\n",
    "    sentence = row[0]\n",
    "    blob_data = row[1]\n",
    "    embedding = convert_array(blob_data)\n",
    "    \n",
    "    embeddings_dict[sentence] = embedding\n",
    "    padded_sequences.append(embedding)\n",
    "    \n",
    "padded_sequences = np.array(padded_sequences)"
   ]
  },
  {
   "cell_type": "code",
   "execution_count": 9,
   "id": "f9ab66aa",
   "metadata": {},
   "outputs": [
    {
     "name": "stdout",
     "output_type": "stream",
     "text": [
      "50\n",
      "2/2 [==============================] - 0s 10ms/step\n",
      "{'Hateful': 18, 'Non-Hateful': 22, 'Neutral': 10}\n"
     ]
    },
    {
     "data": {
      "image/png": "[encoded data removed]",
      "text/plain": [
       "<Figure size 640x480 with 1 Axes>"
      ]
     },
     "metadata": {},
     "output_type": "display_data"
    }
   ],
   "source": [
    "MAX_SEQUENCE_LENGTH = 100\n",
    "class_labels = ['Hateful', 'Non-Hateful', 'Neutral']\n",
    "print(len(testCorpus))\n",
    "\n",
    "# Load the model\n",
    "loaded_model = tf.keras.models.load_model('savedModels/CNN_Model')\n",
    "\n",
    "# Make predictions on the padded sequences\n",
    "predictions = loaded_model.predict(padded_sequences)\n",
    "predicted_classes = np.argmax(predictions, axis=1)\n",
    "\n",
    "# Count the predictions for each class\n",
    "prediction_summary = {label: 0 for label in class_labels}\n",
    "for predicted_class in predicted_classes:\n",
    "    predicted_label = class_labels[predicted_class]\n",
    "    prediction_summary[predicted_label] += 1\n",
    "\n",
    "print(prediction_summary)\n",
    "# Prepare data for bar chart\n",
    "labels = list(prediction_summary.keys())\n",
    "values = list(prediction_summary.values())\n",
    "\n",
    "# Plot the bar chart\n",
    "plt.bar(labels, values)\n",
    "plt.xlabel('Predicted Class')\n",
    "plt.ylabel('Count')\n",
    "plt.title('Prediction Summary')\n",
    "for i, v in enumerate(values):\n",
    "    plt.text(i, v, str(v), ha='center', va='bottom')\n",
    "plt.show()\n"
   ]
  },
  {
   "cell_type": "markdown",
   "id": "784da2e7",
   "metadata": {},
   "source": [
    "## Establishing connection with MongoDB"
   ]
  },
  {
   "cell_type": "code",
   "execution_count": 8,
   "id": "781c760f",
   "metadata": {},
   "outputs": [
    {
     "name": "stdout",
     "output_type": "stream",
     "text": [
      "No of elements:755\n"
     ]
    }
   ],
   "source": [
    "#Establishing Connection\n",
    "try:\n",
    "    client= MongoClient(\"mongodb://localhost:27017\")\n",
    "    #Get Database\n",
    "    db=client.get_database('Vector_Data')\n",
    "    #Get C ollection and preprocessed_data is table name inside db\n",
    "    collection=db.preprocessed_data\n",
    "    # initial number of elements\n",
    "    print('No of elements:{}'.format( collection.count_documents({})))\n",
    "except:\n",
    "    print('Connection Failed')"
   ]
  },
  {
   "cell_type": "markdown",
   "id": "93c031ae",
   "metadata": {},
   "source": [
    "#### Inserting elements in MongoDB"
   ]
  },
  {
   "cell_type": "code",
   "execution_count": 12,
   "id": "7f6abad5",
   "metadata": {},
   "outputs": [
    {
     "data": {
      "text/plain": [
       "50"
      ]
     },
     "execution_count": 12,
     "metadata": {},
     "output_type": "execute_result"
    }
   ],
   "source": [
    "from datetime import datetime\n",
    "import random\n",
    "uniqueId=random.randint(10000, 99999)\n",
    "# inserting all elements in preprocessed_data \n",
    "for row in padded_sequences:\n",
    "    document = {str(uniqueId):row.tolist()}\n",
    "    collection.insert_one(document)\n",
    "# insertion check\n",
    "collection.count_documents({})"
   ]
  },
  {
   "cell_type": "markdown",
   "id": "6b46edf7",
   "metadata": {},
   "source": [
    "#### Retrieving Data from MongoDB"
   ]
  },
  {
   "cell_type": "code",
   "execution_count": 9,
   "id": "98080f5d",
   "metadata": {},
   "outputs": [
    {
     "data": {
      "text/plain": [
       "70"
      ]
     },
     "execution_count": 9,
     "metadata": {},
     "output_type": "execute_result"
    }
   ],
   "source": [
    "vector_data = []\n",
    "uniqueId=\"eb0fa73b-1474-11ee-af40-c39db335b146\"\n",
    "alldocuments = collection.find({str(uniqueId): {'$exists': True}})\n",
    "for document in alldocuments:\n",
    "    vector_data.append(document[str(uniqueId)])\n",
    "padded_sequences2 = np.array(vector_data)\n",
    "len(padded_sequences2)"
   ]
  },
  {
   "cell_type": "code",
   "execution_count": 11,
   "id": "7b5d0754",
   "metadata": {},
   "outputs": [
    {
     "name": "stdout",
     "output_type": "stream",
     "text": [
      "3/3 [==============================] - 0s 4ms/step\n",
      "{'Hateful': 2, 'Non-Hateful': 12, 'Neutral': 56}\n"
     ]
    },
    {
     "data": {
      "image/png": "[encoded data removed]",
      "text/plain": [
       "<Figure size 640x480 with 1 Axes>"
      ]
     },
     "metadata": {},
     "output_type": "display_data"
    }
   ],
   "source": [
    "MAX_SEQUENCE_LENGTH = 100\n",
    "class_labels = ['Hateful', 'Non-Hateful', 'Neutral']\n",
    "#print(len(testCorpus))\n",
    "\n",
    "# Load the model\n",
    "loaded_model = tf.keras.models.load_model('savedModels/CNN_Model')\n",
    "\n",
    "# Make predictions on the padded sequences\n",
    "predictions = loaded_model.predict(padded_sequences2)\n",
    "predicted_classes = np.argmax(predictions, axis=1)\n",
    "\n",
    "# Count the predictions for each class\n",
    "prediction_summary = {label: 0 for label in class_labels}\n",
    "for predicted_class in predicted_classes:\n",
    "    predicted_label = class_labels[predicted_class]\n",
    "    prediction_summary[predicted_label] += 1\n",
    "\n",
    "print(prediction_summary)\n",
    "# Prepare data for bar chart\n",
    "labels = list(prediction_summary.keys())\n",
    "values = list(prediction_summary.values())\n",
    "\n",
    "# Plot the bar chart\n",
    "plt.bar(labels, values)\n",
    "plt.xlabel('Predicted Class')\n",
    "plt.ylabel('Count')\n",
    "plt.title('Prediction Summary')\n",
    "for i, v in enumerate(values):\n",
    "    plt.text(i, v, str(v), ha='center', va='bottom')\n",
    "plt.show()\n"
   ]
  },
  {
   "cell_type": "code",
   "execution_count": 20,
   "id": "54223199",
   "metadata": {},
   "outputs": [
    {
     "data": {
      "text/plain": [
       "numpy.ndarray"
      ]
     },
     "execution_count": 20,
     "metadata": {},
     "output_type": "execute_result"
    }
   ],
   "source": [
    "type(padded_sequences)"
   ]
  },
  {
   "cell_type": "code",
   "execution_count": 21,
   "id": "30e874ac",
   "metadata": {},
   "outputs": [
    {
     "data": {
      "text/plain": [
       "numpy.ndarray"
      ]
     },
     "execution_count": 21,
     "metadata": {},
     "output_type": "execute_result"
    }
   ],
   "source": [
    "type(padded_sequences2)"
   ]
  },
  {
   "cell_type": "code",
   "execution_count": 23,
   "id": "034a071d",
   "metadata": {},
   "outputs": [],
   "source": [
    "padded_sequences= padded_sequences.reshape(padded_sequences.shape[0], padded_sequences.shape[1], 1)"
   ]
  },
  {
   "cell_type": "code",
   "execution_count": 24,
   "id": "462b5605",
   "metadata": {},
   "outputs": [
    {
     "data": {
      "text/plain": [
       "array([[[   0],\n",
       "        [   0],\n",
       "        [   0],\n",
       "        ...,\n",
       "        [  30],\n",
       "        [ 370],\n",
       "        [1333]],\n",
       "\n",
       "       [[   0],\n",
       "        [   0],\n",
       "        [   0],\n",
       "        ...,\n",
       "        [ 220],\n",
       "        [ 220],\n",
       "        [ 220]],\n",
       "\n",
       "       [[   0],\n",
       "        [   0],\n",
       "        [   0],\n",
       "        ...,\n",
       "        [1062],\n",
       "        [ 244],\n",
       "        [   2]],\n",
       "\n",
       "       ...,\n",
       "\n",
       "       [[   0],\n",
       "        [   0],\n",
       "        [   0],\n",
       "        ...,\n",
       "        [   0],\n",
       "        [ 157],\n",
       "        [   2]],\n",
       "\n",
       "       [[   0],\n",
       "        [   0],\n",
       "        [   0],\n",
       "        ...,\n",
       "        [ 124],\n",
       "        [  46],\n",
       "        [ 763]],\n",
       "\n",
       "       [[  37],\n",
       "        [1083],\n",
       "        [1258],\n",
       "        ...,\n",
       "        [ 149],\n",
       "        [ 215],\n",
       "        [   1]]])"
      ]
     },
     "execution_count": 24,
     "metadata": {},
     "output_type": "execute_result"
    }
   ],
   "source": [
    "padded_sequences"
   ]
  },
  {
   "cell_type": "code",
   "execution_count": 7,
   "id": "4e749e68",
   "metadata": {},
   "outputs": [],
   "source": [
    "import pandas as pd\n",
    "testCorpus = pd.Series(testCorpus)"
   ]
  },
  {
   "cell_type": "code",
   "execution_count": 10,
   "id": "71def012",
   "metadata": {},
   "outputs": [],
   "source": [
    "load_options = tf.saved_model.LoadOptions(experimental_io_device='/job:localhost')"
   ]
  },
  {
   "cell_type": "code",
   "execution_count": 11,
   "id": "c6b6e4f0",
   "metadata": {},
   "outputs": [
    {
     "ename": "FileNotFoundError",
     "evalue": "Op type not registered 'CaseFoldUTF8' in binary running on JOSEMON_BABY. Make sure the Op and Kernel are registered in the binary running in this process. Note that if you are loading a saved graph which used ops from tf.contrib, accessing (e.g.) `tf.contrib.resampler` should be done before importing the graph, as contrib ops are lazily registered when the module is first accessed.\n You may be trying to load on a different device from the computational device. Consider setting the `experimental_io_device` option in `tf.saved_model.LoadOptions` to the io_device such as '/job:localhost'.",
     "output_type": "error",
     "traceback": [
      "\u001b[1;31m---------------------------------------------------------------------------\u001b[0m",
      "\u001b[1;31mFileNotFoundError\u001b[0m                         Traceback (most recent call last)",
      "Input \u001b[1;32mIn [11]\u001b[0m, in \u001b[0;36m<cell line: 1>\u001b[1;34m()\u001b[0m\n\u001b[1;32m----> 1\u001b[0m loaded_model \u001b[38;5;241m=\u001b[39m \u001b[43mtf\u001b[49m\u001b[38;5;241;43m.\u001b[39;49m\u001b[43mkeras\u001b[49m\u001b[38;5;241;43m.\u001b[39;49m\u001b[43mmodels\u001b[49m\u001b[38;5;241;43m.\u001b[39;49m\u001b[43mload_model\u001b[49m\u001b[43m(\u001b[49m\u001b[38;5;124;43m'\u001b[39;49m\u001b[38;5;124;43msavedModels/TransformerSentiment\u001b[39;49m\u001b[38;5;124;43m'\u001b[39;49m\u001b[43m,\u001b[49m\u001b[43m \u001b[49m\u001b[43moptions\u001b[49m\u001b[38;5;241;43m=\u001b[39;49m\u001b[43mload_options\u001b[49m\u001b[43m)\u001b[49m\n",
      "File \u001b[1;32m~\\AppData\\Local\\Programs\\Python\\Python310\\lib\\site-packages\\keras\\utils\\traceback_utils.py:70\u001b[0m, in \u001b[0;36mfilter_traceback.<locals>.error_handler\u001b[1;34m(*args, **kwargs)\u001b[0m\n\u001b[0;32m     67\u001b[0m     filtered_tb \u001b[38;5;241m=\u001b[39m _process_traceback_frames(e\u001b[38;5;241m.\u001b[39m__traceback__)\n\u001b[0;32m     68\u001b[0m     \u001b[38;5;66;03m# To get the full stack trace, call:\u001b[39;00m\n\u001b[0;32m     69\u001b[0m     \u001b[38;5;66;03m# `tf.debugging.disable_traceback_filtering()`\u001b[39;00m\n\u001b[1;32m---> 70\u001b[0m     \u001b[38;5;28;01mraise\u001b[39;00m e\u001b[38;5;241m.\u001b[39mwith_traceback(filtered_tb) \u001b[38;5;28;01mfrom\u001b[39;00m \u001b[38;5;28mNone\u001b[39m\n\u001b[0;32m     71\u001b[0m \u001b[38;5;28;01mfinally\u001b[39;00m:\n\u001b[0;32m     72\u001b[0m     \u001b[38;5;28;01mdel\u001b[39;00m filtered_tb\n",
      "File \u001b[1;32m~\\AppData\\Local\\Programs\\Python\\Python310\\lib\\site-packages\\tensorflow\\python\\saved_model\\load.py:961\u001b[0m, in \u001b[0;36mload_partial\u001b[1;34m(export_dir, filters, tags, options)\u001b[0m\n\u001b[0;32m    958\u001b[0m   loader \u001b[38;5;241m=\u001b[39m Loader(object_graph_proto, saved_model_proto, export_dir,\n\u001b[0;32m    959\u001b[0m                   ckpt_options, options, filters)\n\u001b[0;32m    960\u001b[0m \u001b[38;5;28;01mexcept\u001b[39;00m errors\u001b[38;5;241m.\u001b[39mNotFoundError \u001b[38;5;28;01mas\u001b[39;00m err:\n\u001b[1;32m--> 961\u001b[0m   \u001b[38;5;28;01mraise\u001b[39;00m \u001b[38;5;167;01mFileNotFoundError\u001b[39;00m(\n\u001b[0;32m    962\u001b[0m       \u001b[38;5;28mstr\u001b[39m(err) \u001b[38;5;241m+\u001b[39m \u001b[38;5;124m\"\u001b[39m\u001b[38;5;130;01m\\n\u001b[39;00m\u001b[38;5;124m You may be trying to load on a different device \u001b[39m\u001b[38;5;124m\"\u001b[39m\n\u001b[0;32m    963\u001b[0m       \u001b[38;5;124m\"\u001b[39m\u001b[38;5;124mfrom the computational device. Consider setting the \u001b[39m\u001b[38;5;124m\"\u001b[39m\n\u001b[0;32m    964\u001b[0m       \u001b[38;5;124m\"\u001b[39m\u001b[38;5;124m`experimental_io_device` option in `tf.saved_model.LoadOptions` \u001b[39m\u001b[38;5;124m\"\u001b[39m\n\u001b[0;32m    965\u001b[0m       \u001b[38;5;124m\"\u001b[39m\u001b[38;5;124mto the io_device such as \u001b[39m\u001b[38;5;124m'\u001b[39m\u001b[38;5;124m/job:localhost\u001b[39m\u001b[38;5;124m'\u001b[39m\u001b[38;5;124m.\u001b[39m\u001b[38;5;124m\"\u001b[39m)\n\u001b[0;32m    966\u001b[0m root \u001b[38;5;241m=\u001b[39m loader\u001b[38;5;241m.\u001b[39mget(\u001b[38;5;241m0\u001b[39m)\n\u001b[0;32m    967\u001b[0m root\u001b[38;5;241m.\u001b[39mgraph_debug_info \u001b[38;5;241m=\u001b[39m loader\u001b[38;5;241m.\u001b[39madjust_debug_info_func_names(debug_info)\n",
      "\u001b[1;31mFileNotFoundError\u001b[0m: Op type not registered 'CaseFoldUTF8' in binary running on JOSEMON_BABY. Make sure the Op and Kernel are registered in the binary running in this process. Note that if you are loading a saved graph which used ops from tf.contrib, accessing (e.g.) `tf.contrib.resampler` should be done before importing the graph, as contrib ops are lazily registered when the module is first accessed.\n You may be trying to load on a different device from the computational device. Consider setting the `experimental_io_device` option in `tf.saved_model.LoadOptions` to the io_device such as '/job:localhost'."
     ]
    }
   ],
   "source": [
    "loaded_model = tf.keras.models.load_model('savedModels/TransformerSentiment')"
   ]
  },
  {
   "cell_type": "code",
   "execution_count": 12,
   "id": "af5aba44",
   "metadata": {},
   "outputs": [
    {
     "data": {
      "text/plain": [
       "'2.11.0'"
      ]
     },
     "execution_count": 12,
     "metadata": {},
     "output_type": "execute_result"
    }
   ],
   "source": [
    "tf.__version__"
   ]
  },
  {
   "cell_type": "code",
   "execution_count": null,
   "id": "8321ff0d",
   "metadata": {},
   "outputs": [],
   "source": []
  }
 ],
 "metadata": {
  "kernelspec": {
   "display_name": "Python 3 (ipykernel)",
   "language": "python",
   "name": "python3"
  },
  "language_info": {
   "codemirror_mode": {
    "name": "ipython",
    "version": 3
   },
   "file_extension": ".py",
   "mimetype": "text/x-python",
   "name": "python",
   "nbconvert_exporter": "python",
   "pygments_lexer": "ipython3",
   "version": "3.10.6"
  }
 },
 "nbformat": 4,
 "nbformat_minor": 5
}
