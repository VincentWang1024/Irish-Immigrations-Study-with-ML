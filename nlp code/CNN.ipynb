{
 "cells": [
  {
   "cell_type": "code",
   "execution_count": 1,
   "id": "f93e9a84",
   "metadata": {},
   "outputs": [
    {
     "name": "stderr",
     "output_type": "stream",
     "text": [
      "[nltk_data] Downloading package stopwords to\n",
      "[nltk_data]     C:\\Users\\babyj\\AppData\\Roaming\\nltk_data...\n",
      "[nltk_data]   Package stopwords is already up-to-date!\n",
      "[nltk_data] Downloading package averaged_perceptron_tagger to\n",
      "[nltk_data]     C:\\Users\\babyj\\AppData\\Roaming\\nltk_data...\n",
      "[nltk_data]   Package averaged_perceptron_tagger is already up-to-\n",
      "[nltk_data]       date!\n",
      "[nltk_data] Downloading package wordnet to\n",
      "[nltk_data]     C:\\Users\\babyj\\AppData\\Roaming\\nltk_data...\n",
      "[nltk_data]   Package wordnet is already up-to-date!\n"
     ]
    },
    {
     "data": {
      "text/plain": [
       "True"
      ]
     },
     "execution_count": 1,
     "metadata": {},
     "output_type": "execute_result"
    }
   ],
   "source": [
    "import nltk\n",
    "from nltk.corpus import stopwords\n",
    "from nltk.tokenize import word_tokenize\n",
    "from nltk.probability import FreqDist\n",
    "import os.path\n",
    "from nltk.stem import PorterStemmer, WordNetLemmatizer\n",
    "from nltk.corpus import wordnet\n",
    "from nltk import pos_tag\n",
    "import numpy as np\n",
    "import re\n",
    "import math\n",
    "import pandas as pd\n",
    "import csv\n",
    "from tensorflow.keras.models import Sequential\n",
    "from tensorflow.keras.layers import Embedding, Conv1D, Dense, Dropout, Flatten\n",
    "from tensorflow.keras.callbacks import EarlyStopping\n",
    "from sklearn.model_selection import train_test_split\n",
    "from langdetect import detect\n",
    "from sklearn.metrics import classification_report\n",
    "\n",
    "nltk.download('stopwords')\n",
    "nltk.download('averaged_perceptron_tagger')\n",
    "nltk.download('wordnet')\n"
   ]
  },
  {
   "cell_type": "code",
   "execution_count": 2,
   "id": "21494d11",
   "metadata": {},
   "outputs": [],
   "source": [
    "emoji_dict = {}\n",
    "with open('emoji.txt', 'r', encoding='latin-1') as emoji_file:\n",
    "    for line in emoji_file:\n",
    "        line = line.strip()\n",
    "        if line:\n",
    "            emoji, value = line.split('\\t')\n",
    "            emoji_dict[emoji] = int(value)"
   ]
  },
  {
   "cell_type": "code",
   "execution_count": 3,
   "id": "91106086",
   "metadata": {},
   "outputs": [],
   "source": [
    "def replace_emojis(text, emoji_dict):\n",
    "    for emoji, value in emoji_dict.items():\n",
    "        if value == 1:\n",
    "            text = re.sub(re.escape(emoji), 'happy', text)\n",
    "        elif value == -1:\n",
    "            text = re.sub(re.escape(emoji), 'sad', text)\n",
    "    return text"
   ]
  },
  {
   "cell_type": "code",
   "execution_count": 4,
   "id": "f1ac01d9",
   "metadata": {},
   "outputs": [],
   "source": [
    "#vincent\n",
    "def get_wordnet_pos(treebank_tag):\n",
    "    if treebank_tag.startswith('J'):\n",
    "        return wordnet.ADJ\n",
    "    elif treebank_tag.startswith('V'):\n",
    "        return wordnet.VERB\n",
    "    elif treebank_tag.startswith('N'):\n",
    "        return wordnet.NOUN\n",
    "    elif treebank_tag.startswith('R'):\n",
    "        return wordnet.ADV\n",
    "    else:\n",
    "        return None\n",
    "    \n",
    "def preprocess_text(text):\n",
    "    text = text.lower()\n",
    "    text = re.sub(r\"[^a-zA-Z0-9\\s]\", \"\", text)\n",
    "    words = word_tokenize(text)\n",
    "    stemmer = PorterStemmer()\n",
    "    words = [stemmer.stem(word) for word in words]\n",
    "    lemmatizer = WordNetLemmatizer()\n",
    "    tagged = pos_tag(words)\n",
    "    words = [lemmatizer.lemmatize(word, pos=get_wordnet_pos(pos)) if get_wordnet_pos(pos) else word for word, pos in tagged]\n",
    "    stop_words = set(stopwords.words('english'))\n",
    "    filtered_words = [word for word in words if word not in stop_words]\n",
    "    return ' '.join(filtered_words)\n",
    "\n",
    "hatefulCorpus=[]\n",
    "nHatefulCorpus=[]\n",
    "neutralCorpus=[]\n",
    "with open(\"firstIter.csv\", \"r\", encoding=\"utf-8\") as file:\n",
    "    reader = csv.DictReader(file)\n",
    "    for row in reader:\n",
    "        if not all(value == \"\" for value in row.values()):\n",
    "            text = row[\"Comment Text\"]\n",
    "            if text == \"\":\n",
    "                continue\n",
    "            label = row[\"Label\"]\n",
    "            if label == \"\":\n",
    "                continue\n",
    "            try:\n",
    "                lang=detect(text)\n",
    "            except:\n",
    "                lang = \"\"\n",
    "            if lang != \"en\":\n",
    "                continue\n",
    "            newText = text.strip()\n",
    "            newText = replace_emojis(newText, emoji_dict)\n",
    "            newText = preprocess_text(newText)\n",
    "            if label=='Neutral':\n",
    "                neutralCorpus.append(newText)\n",
    "            elif label=='Hateful':\n",
    "                hatefulCorpus.append(newText)\n",
    "            else:\n",
    "                nHatefulCorpus.append(newText)"
   ]
  },
  {
   "cell_type": "code",
   "execution_count": 5,
   "id": "aa1c54d4",
   "metadata": {},
   "outputs": [
    {
     "data": {
      "text/plain": [
       "1060"
      ]
     },
     "execution_count": 5,
     "metadata": {},
     "output_type": "execute_result"
    }
   ],
   "source": [
    "#all_texts = hatefulCorpus + nHatefulCorpus + neutralCorpus\n",
    "# Create frequency distribution\n",
    "#word_freq = FreqDist()\n",
    "\n",
    "#for text in all_texts:\n",
    "#    words = text.split()\n",
    "#    word_freq.update(words)\n",
    "#known_words = {word for word, freq in word_freq.items() if freq > 3}\n",
    "#len(known_words)"
   ]
  },
  {
   "cell_type": "code",
   "execution_count": 11,
   "id": "7414aedb",
   "metadata": {},
   "outputs": [],
   "source": [
    "#total_words = 0\n",
    "#num_comments = len(all_texts)\n",
    "\n",
    "#for comment in all_texts:\n",
    "#    total_words += len(comment.split())\n",
    "\n",
    "#average_words = total_words / num_comments\n",
    "\n",
    "#variance = 0\n",
    "#for comment in all_texts:\n",
    "#    num_words = len(comment.split())\n",
    "#    variance += (num_words - average_words) ** 2\n",
    "\n",
    "#std_deviation = math.sqrt(variance / num_comments)\n",
    "#M = round(average_words + std_deviation)\n",
    "\n",
    "#def comment_to_vector(comment, known_words, M):\n",
    "#    words = comment.split()\n",
    "#    vector = []\n",
    "#    for i in range(M):\n",
    "#        if i < len(words):\n",
    "#            word = words[i]\n",
    "#            if word in known_words:\n",
    "#                vector.append(known_words.index(word) + 1)\n",
    "#            else:\n",
    "#                vector.append(0)\n",
    "#        else:\n",
    "#            vector.append(0)\n",
    "#    return vector\n",
    "\n",
    "# Convert preprocessed comments to vector representation\n",
    "#hateful_comment_vectors = []\n",
    "#for comment in hatefulCorpus:\n",
    "#    vector = comment_to_vector(comment, list(known_words), M)\n",
    "#    hateful_comment_vectors.append(vector)\n",
    "    \n",
    "\n",
    "#nHateful_comment_vectors = []\n",
    "#for comment in nHatefulCorpus:\n",
    "#    vector = comment_to_vector(comment, list(known_words), M)\n",
    "#    nHateful_comment_vectors.append(vector)\n",
    "#    \n",
    "#neutral_comment_vectors = []\n",
    "#for comment in neutralCorpus:\n",
    "#    vector = comment_to_vector(comment, list(known_words), M)\n",
    "#    neutral_comment_vectors.append(vector)"
   ]
  },
  {
   "cell_type": "code",
   "execution_count": 12,
   "id": "f1944998",
   "metadata": {},
   "outputs": [
    {
     "name": "stdout",
     "output_type": "stream",
     "text": [
      "Epoch 1/20\n",
      "32/32 [==============================] - 2s 15ms/step - loss: 1.0141 - accuracy: 0.5522 - val_loss: 0.9664 - val_accuracy: 0.6040\n",
      "Epoch 2/20\n",
      "32/32 [==============================] - 0s 8ms/step - loss: 0.9939 - accuracy: 0.5562 - val_loss: 0.9446 - val_accuracy: 0.6040\n",
      "Epoch 3/20\n",
      "32/32 [==============================] - 0s 8ms/step - loss: 0.9837 - accuracy: 0.5562 - val_loss: 0.9542 - val_accuracy: 0.6040\n",
      "Epoch 4/20\n",
      "32/32 [==============================] - 0s 9ms/step - loss: 0.9633 - accuracy: 0.5562 - val_loss: 0.9600 - val_accuracy: 0.6040\n",
      "Epoch 5/20\n",
      "32/32 [==============================] - 0s 9ms/step - loss: 0.9289 - accuracy: 0.5562 - val_loss: 0.9433 - val_accuracy: 0.6040\n",
      "Epoch 6/20\n",
      "32/32 [==============================] - 0s 9ms/step - loss: 0.8576 - accuracy: 0.5562 - val_loss: 0.9511 - val_accuracy: 0.6040\n",
      "Epoch 7/20\n",
      "32/32 [==============================] - 0s 9ms/step - loss: 0.8066 - accuracy: 0.5763 - val_loss: 0.9494 - val_accuracy: 0.6000\n",
      "Epoch 8/20\n",
      "32/32 [==============================] - 0s 8ms/step - loss: 0.7330 - accuracy: 0.6295 - val_loss: 1.0288 - val_accuracy: 0.5960\n"
     ]
    },
    {
     "name": "stderr",
     "output_type": "stream",
     "text": [
      "WARNING:absl:Found untraced functions such as _jit_compiled_convolution_op, _jit_compiled_convolution_op, _update_step_xla while saving (showing 3 of 3). These functions will not be directly callable after loading.\n"
     ]
    },
    {
     "name": "stdout",
     "output_type": "stream",
     "text": [
      "INFO:tensorflow:Assets written to: savedModels/CNN_Model\\assets\n"
     ]
    },
    {
     "name": "stderr",
     "output_type": "stream",
     "text": [
      "INFO:tensorflow:Assets written to: savedModels/CNN_Model\\assets\n"
     ]
    }
   ],
   "source": [
    "#from tensorflow.keras.layers import Dense\n",
    "#from tensorflow.keras.utils import to_categorical\n",
    "#hateful_comment_vectors = np.array(hateful_comment_vectors)\n",
    "#nHateful_comment_vectors = np.array(nHateful_comment_vectors)\n",
    "#neutral_comment_vectors = np.array(neutral_comment_vectors)\n",
    "\n",
    "#all_comment_vectors = np.concatenate((hateful_comment_vectors, nHateful_comment_vectors, neutral_comment_vectors))\n",
    "\n",
    "#hateful_labels = np.ones(len(hatefulCorpus))\n",
    "#nHateful_labels = np.zeros(len(nHatefulCorpus))\n",
    "#neutral_labels = np.full(len(neutralCorpus), 2)\n",
    "\n",
    "#all_labels = np.concatenate((hateful_labels, nHateful_labels, neutral_labels))\n",
    "\n",
    "#num_classes = 3\n",
    "\n",
    "#X_train, X_test, y_train, y_test = train_test_split(all_comment_vectors, all_labels, test_size=0.2, random_state=42)\n",
    "#y_train_one_hot = to_categorical(y_train, num_classes)\n",
    "#y_test_one_hot = to_categorical(y_test, num_classes)\n",
    "\n",
    "#embedding_dim = 40\n",
    "\n",
    "\n",
    "#model = Sequential()\n",
    "#model.add(Embedding(input_dim=len(known_words) + 1, output_dim=embedding_dim, input_length=M))\n",
    "#model.add(Conv1D(filters=32, kernel_size=3, activation='relu'))\n",
    "#model.add(Dropout(0.5))\n",
    "#model.add(Conv1D(filters=64, kernel_size=3, activation='relu'))\n",
    "#model.add(Dropout(0.5))\n",
    "#model.add(Dense(units=50, activation='relu'))\n",
    "#model.add(Dropout(0.5))\n",
    "#model.add(Flatten())\n",
    "#model.add(Dense(units=num_classes, activation='softmax'))\n",
    "\n",
    "#model.compile(loss='categorical_crossentropy', optimizer='adam', metrics=['accuracy'])\n",
    "\n",
    "#early_stopping = EarlyStopping(monitor='val_loss', patience=3)\n",
    "\n",
    "#model.fit(X_train, y_train_one_hot, epochs=20, batch_size=32, validation_data=(X_test, y_test_one_hot), callbacks=[early_stopping])\n",
    "\n",
    "#model.save('savedModels/CNN_Model')\n"
   ]
  },
  {
   "cell_type": "code",
   "execution_count": 39,
   "id": "8dde71a3",
   "metadata": {},
   "outputs": [
    {
     "name": "stdout",
     "output_type": "stream",
     "text": [
      "1/1 [==============================] - 0s 79ms/step\n",
      "hateful\n"
     ]
    }
   ],
   "source": [
    "#import tensorflow as tf\n",
    "#import keras\n",
    "#testData = \"All immigrants should be deported to where they came from.\"\n",
    "#testData = testData.strip()\n",
    "#testData = replace_emojis(testData, emoji_dict)\n",
    "#testData = preprocess_text(testData)\n",
    "#testDataVector = comment_to_vector(testData, list(known_words), 40)\n",
    "#testDataVector = np.array(testDataVector)\n",
    "#testDataVector = np.expand_dims(testDataVector, axis=0)\n",
    "#loadedModel = tf.keras.models.load_model('savedModels/CNN_Model')\n",
    "#predicted_probabilities = loadedModel.predict(testDataVector)\n",
    "#predicted_class = np.argmax(predicted_probabilities)\n",
    "#class_labels = ['hateful', 'non-hateful', 'neutral']\n",
    "#print(class_labels[predicted_class])"
   ]
  },
  {
   "cell_type": "markdown",
   "id": "1df7757e",
   "metadata": {},
   "source": [
    "## Implementing CNN using Glove Embedding"
   ]
  },
  {
   "cell_type": "code",
   "execution_count": 10,
   "id": "e6125e7c",
   "metadata": {},
   "outputs": [
    {
     "name": "stdout",
     "output_type": "stream",
     "text": [
      "Epoch 1/20\n",
      "32/32 [==============================] - 2s 22ms/step - loss: 1.0224 - accuracy: 0.5290 - val_loss: 0.9722 - val_accuracy: 0.5777\n",
      "Epoch 2/20\n",
      "32/32 [==============================] - 0s 12ms/step - loss: 0.9835 - accuracy: 0.5620 - val_loss: 0.9845 - val_accuracy: 0.5777\n",
      "Epoch 3/20\n",
      "32/32 [==============================] - 0s 10ms/step - loss: 0.9749 - accuracy: 0.5630 - val_loss: 0.9731 - val_accuracy: 0.5777\n",
      "Epoch 4/20\n",
      "32/32 [==============================] - 0s 10ms/step - loss: 0.9662 - accuracy: 0.5620 - val_loss: 0.9760 - val_accuracy: 0.5777\n"
     ]
    },
    {
     "name": "stderr",
     "output_type": "stream",
     "text": [
      "WARNING:absl:Found untraced functions such as _jit_compiled_convolution_op, _jit_compiled_convolution_op, _update_step_xla while saving (showing 3 of 3). These functions will not be directly callable after loading.\n"
     ]
    },
    {
     "name": "stdout",
     "output_type": "stream",
     "text": [
      "INFO:tensorflow:Assets written to: savedModels/CNN_Model\\assets\n"
     ]
    },
    {
     "name": "stderr",
     "output_type": "stream",
     "text": [
      "INFO:tensorflow:Assets written to: savedModels/CNN_Model\\assets\n"
     ]
    },
    {
     "name": "stdout",
     "output_type": "stream",
     "text": [
      "8/8 [==============================] - 0s 4ms/step\n",
      "              precision    recall  f1-score   support\n",
      "\n",
      "           0       0.58      1.00      0.73       145\n",
      "           1       0.00      0.00      0.00        49\n",
      "           2       0.00      0.00      0.00        57\n",
      "\n",
      "    accuracy                           0.58       251\n",
      "   macro avg       0.19      0.33      0.24       251\n",
      "weighted avg       0.33      0.58      0.42       251\n",
      "\n"
     ]
    },
    {
     "name": "stderr",
     "output_type": "stream",
     "text": [
      "C:\\Users\\babyj\\AppData\\Local\\Programs\\Python\\Python310\\lib\\site-packages\\sklearn\\metrics\\_classification.py:1334: UndefinedMetricWarning: Precision and F-score are ill-defined and being set to 0.0 in labels with no predicted samples. Use `zero_division` parameter to control this behavior.\n",
      "  _warn_prf(average, modifier, msg_start, len(result))\n",
      "C:\\Users\\babyj\\AppData\\Local\\Programs\\Python\\Python310\\lib\\site-packages\\sklearn\\metrics\\_classification.py:1334: UndefinedMetricWarning: Precision and F-score are ill-defined and being set to 0.0 in labels with no predicted samples. Use `zero_division` parameter to control this behavior.\n",
      "  _warn_prf(average, modifier, msg_start, len(result))\n",
      "C:\\Users\\babyj\\AppData\\Local\\Programs\\Python\\Python310\\lib\\site-packages\\sklearn\\metrics\\_classification.py:1334: UndefinedMetricWarning: Precision and F-score are ill-defined and being set to 0.0 in labels with no predicted samples. Use `zero_division` parameter to control this behavior.\n",
      "  _warn_prf(average, modifier, msg_start, len(result))\n"
     ]
    }
   ],
   "source": [
    "from keras.preprocessing.text import Tokenizer\n",
    "from keras.utils import pad_sequences\n",
    "from keras.models import Sequential\n",
    "from keras.utils import to_categorical\n",
    "from keras.layers import Embedding, Conv1D, MaxPooling1D, Flatten, Dense\n",
    "from keras.wrappers.scikit_learn import KerasClassifier\n",
    "from sklearn.model_selection import GridSearchCV\n",
    "\n",
    "MAX_NB_WORDS = 20000\n",
    "MAX_SEQUENCE_LENGTH = 100\n",
    "\n",
    "embeddings_index = {}\n",
    "\n",
    "#Download Glove from http://nlp.stanford.edu/data/glove.6B.zip\n",
    "with open('glove.6B.100d.txt', 'r', encoding='utf-8') as f:\n",
    "    for line in f:\n",
    "        values = line.split()\n",
    "        word = values[0]\n",
    "        coefs = np.asarray(values[1:], dtype='float32')\n",
    "        embeddings_index[word] = coefs\n",
    "\n",
    "tokenizer = Tokenizer(num_words=MAX_NB_WORDS)\n",
    "tokenizer.fit_on_texts(hatefulCorpus + nHatefulCorpus + neutralCorpus)\n",
    "word_index = tokenizer.word_index\n",
    "\n",
    "X = tokenizer.texts_to_sequences(hatefulCorpus + nHatefulCorpus + neutralCorpus)\n",
    "X = pad_sequences(X, maxlen=MAX_SEQUENCE_LENGTH)\n",
    "\n",
    "y = np.array([0] * len(hatefulCorpus) + [1] * len(nHatefulCorpus) + [2] * len(neutralCorpus))\n",
    "y = to_categorical(y, num_classes=3)\n",
    "size = len(word_index)\n",
    "embedding_matrix = np.zeros((size + 1, 100))\n",
    "for word, i in word_index.items():\n",
    "    embedding_vector = embeddings_index.get(word)\n",
    "    if embedding_vector is not None:\n",
    "        embedding_matrix[i] = embedding_vector\n",
    "        \n",
    "X_train, X_val, y_train, y_val = train_test_split(X, y, test_size=0.2, random_state=42)\n",
    "\n",
    "def create_model(optimizer='adam', filters=32, kernel_size=3, dropout_rate=0.5):\n",
    "    model = Sequential()\n",
    "    model.add(Embedding(size + 1, 100, weights=[embedding_matrix], input_length=MAX_SEQUENCE_LENGTH, trainable=False))\n",
    "    model.add(Conv1D(filters, kernel_size, activation='relu'))\n",
    "    model.add(MaxPooling1D(3))\n",
    "    model.add(Dropout(dropout_rate))\n",
    "    model.add(Conv1D(filters*2, kernel_size, activation='relu'))\n",
    "    model.add(MaxPooling1D(5))\n",
    "    model.add(Dropout(dropout_rate))\n",
    "    model.add(Flatten())\n",
    "    model.add(Dense(filters*2, activation='relu'))\n",
    "    model.add(Dense(3, activation='softmax'))\n",
    "    model.compile(loss='categorical_crossentropy', optimizer=optimizer, metrics=['accuracy'])\n",
    "    return model\n",
    "\n",
    "#model = KerasClassifier(build_fn=create_model, verbose=0)\n",
    "\n",
    "#param_grid = {\n",
    "#    'optimizer': ['adam', 'rmsprop'],\n",
    "#    'filters': [16, 32, 64, 128],\n",
    "#    'kernel_size': [3, 5],\n",
    "#    'dropout_rate': [0.3, 0.5]\n",
    "#}\n",
    "\n",
    "#grid = GridSearchCV(estimator=model, param_grid=param_grid, n_jobs=-1, cv=3)\n",
    "\n",
    "#grid_result = grid.fit(X_train, y_train)\n",
    "\n",
    "#print(\"Best Parameters: \", grid_result.best_params_)\n",
    "#print(\"Best Score: \", grid_result.best_score_)\n",
    "\n",
    "early_stopping = EarlyStopping(monitor='val_loss', patience=3)\n",
    "model = create_model(optimizer='adam', filters=16, kernel_size=3, dropout_rate=0.3)\n",
    "model.fit(X_train, y_train, validation_data=(X_val, y_val), epochs=20, batch_size=32, callbacks=[early_stopping])\n",
    "model.save('savedModels/CNN_Model')\n",
    "\n",
    "y_pred = model.predict(X_val)\n",
    "y_pred_classes = np.argmax(y_pred, axis=1)\n",
    "y_true = np.argmax(y_val, axis=1)\n",
    "report = classification_report(y_true, y_pred_classes)\n",
    "print(report)"
   ]
  },
  {
   "cell_type": "code",
   "execution_count": 12,
   "id": "625f3e85",
   "metadata": {},
   "outputs": [
    {
     "name": "stdout",
     "output_type": "stream",
     "text": [
      "1/1 [==============================] - 0s 148ms/step\n",
      "The predicted class for 'All immigrants should be deported to where they came from.' is: 0\n"
     ]
    }
   ],
   "source": [
    "import tensorflow as tf\n",
    "testText = \"All immigrants should be deported to where they came from.\"\n",
    "testSequence = tokenizer.texts_to_sequences([testText])\n",
    "testSequence = pad_sequences(testSequence, maxlen=MAX_SEQUENCE_LENGTH)\n",
    "loadedModel = tf.keras.models.load_model('savedModels/CNN_Model')\n",
    "prediction = loadedModel.predict(testSequence)\n",
    "predictedClass = np.argmax(prediction)\n",
    "print(f\"The predicted class for '{testText}' is: {predictedClass}\")"
   ]
  },
  {
   "cell_type": "code",
   "execution_count": null,
   "id": "610cfaba",
   "metadata": {},
   "outputs": [],
   "source": []
  }
 ],
 "metadata": {
  "kernelspec": {
   "display_name": "Python 3 (ipykernel)",
   "language": "python",
   "name": "python3"
  },
  "language_info": {
   "codemirror_mode": {
    "name": "ipython",
    "version": 3
   },
   "file_extension": ".py",
   "mimetype": "text/x-python",
   "name": "python",
   "nbconvert_exporter": "python",
   "pygments_lexer": "ipython3",
   "version": "3.10.6"
  }
 },
 "nbformat": 4,
 "nbformat_minor": 5
}
