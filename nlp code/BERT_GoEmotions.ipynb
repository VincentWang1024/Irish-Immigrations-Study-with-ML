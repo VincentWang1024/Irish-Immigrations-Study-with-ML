{
  "cells": [
    {
      "cell_type": "code",
      "execution_count": 2,
      "metadata": {
        "colab": {
          "base_uri": "https://localhost:8080/"
        },
        "id": "9KFTB33HaB3h",
        "outputId": "cd978521-1853-4f2d-ad0e-c52da23a27c9"
      },
      "outputs": [
        {
          "output_type": "stream",
          "name": "stdout",
          "text": [
            "Drive already mounted at /content/drive/; to attempt to forcibly remount, call drive.mount(\"/content/drive/\", force_remount=True).\n",
            "/content/drive/MyDrive/colab_final_project\n"
          ]
        }
      ],
      "source": [
        "from google.colab import drive\n",
        "drive.mount('/content/drive/')\n",
        "%cd drive/MyDrive/colab_final_project/"
      ]
    },
    {
      "cell_type": "code",
      "execution_count": 2,
      "metadata": {
        "colab": {
          "base_uri": "https://localhost:8080/"
        },
        "id": "dBZaM_MfcIqu",
        "outputId": "6146b173-e6c8-4098-c8fd-ecac06fe86b8"
      },
      "outputs": [
        {
          "output_type": "stream",
          "name": "stdout",
          "text": [
            "Collecting tensorflow-text\n",
            "  Downloading tensorflow_text-2.13.0-cp310-cp310-manylinux_2_17_x86_64.manylinux2014_x86_64.whl (6.5 MB)\n",
            "\u001b[2K     \u001b[90m━━━━━━━━━━━━━━━━━━━━━━━━━━━━━━━━━━━━━━━━\u001b[0m \u001b[32m6.5/6.5 MB\u001b[0m \u001b[31m39.8 MB/s\u001b[0m eta \u001b[36m0:00:00\u001b[0m\n",
            "\u001b[?25hRequirement already satisfied: tensorflow-hub>=0.8.0 in /usr/local/lib/python3.10/dist-packages (from tensorflow-text) (0.13.0)\n",
            "Collecting tensorflow<2.14,>=2.13.0 (from tensorflow-text)\n",
            "  Downloading tensorflow-2.13.0-cp310-cp310-manylinux_2_17_x86_64.manylinux2014_x86_64.whl (524.1 MB)\n",
            "\u001b[2K     \u001b[90m━━━━━━━━━━━━━━━━━━━━━━━━━━━━━━━━━━━━━━━\u001b[0m \u001b[32m524.1/524.1 MB\u001b[0m \u001b[31m2.2 MB/s\u001b[0m eta \u001b[36m0:00:00\u001b[0m\n",
            "\u001b[?25hRequirement already satisfied: absl-py>=1.0.0 in /usr/local/lib/python3.10/dist-packages (from tensorflow<2.14,>=2.13.0->tensorflow-text) (1.4.0)\n",
            "Requirement already satisfied: astunparse>=1.6.0 in /usr/local/lib/python3.10/dist-packages (from tensorflow<2.14,>=2.13.0->tensorflow-text) (1.6.3)\n",
            "Requirement already satisfied: flatbuffers>=23.1.21 in /usr/local/lib/python3.10/dist-packages (from tensorflow<2.14,>=2.13.0->tensorflow-text) (23.5.26)\n",
            "Requirement already satisfied: gast<=0.4.0,>=0.2.1 in /usr/local/lib/python3.10/dist-packages (from tensorflow<2.14,>=2.13.0->tensorflow-text) (0.4.0)\n",
            "Requirement already satisfied: google-pasta>=0.1.1 in /usr/local/lib/python3.10/dist-packages (from tensorflow<2.14,>=2.13.0->tensorflow-text) (0.2.0)\n",
            "Requirement already satisfied: grpcio<2.0,>=1.24.3 in /usr/local/lib/python3.10/dist-packages (from tensorflow<2.14,>=2.13.0->tensorflow-text) (1.56.0)\n",
            "Requirement already satisfied: h5py>=2.9.0 in /usr/local/lib/python3.10/dist-packages (from tensorflow<2.14,>=2.13.0->tensorflow-text) (3.8.0)\n",
            "Collecting keras<2.14,>=2.13.1 (from tensorflow<2.14,>=2.13.0->tensorflow-text)\n",
            "  Downloading keras-2.13.1-py3-none-any.whl (1.7 MB)\n",
            "\u001b[2K     \u001b[90m━━━━━━━━━━━━━━━━━━━━━━━━━━━━━━━━━━━━━━━━\u001b[0m \u001b[32m1.7/1.7 MB\u001b[0m \u001b[31m77.4 MB/s\u001b[0m eta \u001b[36m0:00:00\u001b[0m\n",
            "\u001b[?25hRequirement already satisfied: libclang>=13.0.0 in /usr/local/lib/python3.10/dist-packages (from tensorflow<2.14,>=2.13.0->tensorflow-text) (16.0.0)\n",
            "Requirement already satisfied: numpy<=1.24.3,>=1.22 in /usr/local/lib/python3.10/dist-packages (from tensorflow<2.14,>=2.13.0->tensorflow-text) (1.22.4)\n",
            "Requirement already satisfied: opt-einsum>=2.3.2 in /usr/local/lib/python3.10/dist-packages (from tensorflow<2.14,>=2.13.0->tensorflow-text) (3.3.0)\n",
            "Requirement already satisfied: packaging in /usr/local/lib/python3.10/dist-packages (from tensorflow<2.14,>=2.13.0->tensorflow-text) (23.1)\n",
            "Requirement already satisfied: protobuf!=4.21.0,!=4.21.1,!=4.21.2,!=4.21.3,!=4.21.4,!=4.21.5,<5.0.0dev,>=3.20.3 in /usr/local/lib/python3.10/dist-packages (from tensorflow<2.14,>=2.13.0->tensorflow-text) (3.20.3)\n",
            "Requirement already satisfied: setuptools in /usr/local/lib/python3.10/dist-packages (from tensorflow<2.14,>=2.13.0->tensorflow-text) (67.7.2)\n",
            "Requirement already satisfied: six>=1.12.0 in /usr/local/lib/python3.10/dist-packages (from tensorflow<2.14,>=2.13.0->tensorflow-text) (1.16.0)\n",
            "Collecting tensorboard<2.14,>=2.13 (from tensorflow<2.14,>=2.13.0->tensorflow-text)\n",
            "  Downloading tensorboard-2.13.0-py3-none-any.whl (5.6 MB)\n",
            "\u001b[2K     \u001b[90m━━━━━━━━━━━━━━━━━━━━━━━━━━━━━━━━━━━━━━━━\u001b[0m \u001b[32m5.6/5.6 MB\u001b[0m \u001b[31m93.3 MB/s\u001b[0m eta \u001b[36m0:00:00\u001b[0m\n",
            "\u001b[?25hCollecting tensorflow-estimator<2.14,>=2.13.0 (from tensorflow<2.14,>=2.13.0->tensorflow-text)\n",
            "  Downloading tensorflow_estimator-2.13.0-py2.py3-none-any.whl (440 kB)\n",
            "\u001b[2K     \u001b[90m━━━━━━━━━━━━━━━━━━━━━━━━━━━━━━━━━━━━━━\u001b[0m \u001b[32m440.8/440.8 kB\u001b[0m \u001b[31m37.3 MB/s\u001b[0m eta \u001b[36m0:00:00\u001b[0m\n",
            "\u001b[?25hRequirement already satisfied: termcolor>=1.1.0 in /usr/local/lib/python3.10/dist-packages (from tensorflow<2.14,>=2.13.0->tensorflow-text) (2.3.0)\n",
            "Collecting typing-extensions<4.6.0,>=3.6.6 (from tensorflow<2.14,>=2.13.0->tensorflow-text)\n",
            "  Downloading typing_extensions-4.5.0-py3-none-any.whl (27 kB)\n",
            "Requirement already satisfied: wrapt>=1.11.0 in /usr/local/lib/python3.10/dist-packages (from tensorflow<2.14,>=2.13.0->tensorflow-text) (1.14.1)\n",
            "Requirement already satisfied: tensorflow-io-gcs-filesystem>=0.23.1 in /usr/local/lib/python3.10/dist-packages (from tensorflow<2.14,>=2.13.0->tensorflow-text) (0.32.0)\n",
            "Requirement already satisfied: wheel<1.0,>=0.23.0 in /usr/local/lib/python3.10/dist-packages (from astunparse>=1.6.0->tensorflow<2.14,>=2.13.0->tensorflow-text) (0.40.0)\n",
            "Requirement already satisfied: google-auth<3,>=1.6.3 in /usr/local/lib/python3.10/dist-packages (from tensorboard<2.14,>=2.13->tensorflow<2.14,>=2.13.0->tensorflow-text) (2.17.3)\n",
            "Requirement already satisfied: google-auth-oauthlib<1.1,>=0.5 in /usr/local/lib/python3.10/dist-packages (from tensorboard<2.14,>=2.13->tensorflow<2.14,>=2.13.0->tensorflow-text) (1.0.0)\n",
            "Requirement already satisfied: markdown>=2.6.8 in /usr/local/lib/python3.10/dist-packages (from tensorboard<2.14,>=2.13->tensorflow<2.14,>=2.13.0->tensorflow-text) (3.4.3)\n",
            "Requirement already satisfied: requests<3,>=2.21.0 in /usr/local/lib/python3.10/dist-packages (from tensorboard<2.14,>=2.13->tensorflow<2.14,>=2.13.0->tensorflow-text) (2.27.1)\n",
            "Requirement already satisfied: tensorboard-data-server<0.8.0,>=0.7.0 in /usr/local/lib/python3.10/dist-packages (from tensorboard<2.14,>=2.13->tensorflow<2.14,>=2.13.0->tensorflow-text) (0.7.1)\n",
            "Requirement already satisfied: werkzeug>=1.0.1 in /usr/local/lib/python3.10/dist-packages (from tensorboard<2.14,>=2.13->tensorflow<2.14,>=2.13.0->tensorflow-text) (2.3.6)\n",
            "Requirement already satisfied: cachetools<6.0,>=2.0.0 in /usr/local/lib/python3.10/dist-packages (from google-auth<3,>=1.6.3->tensorboard<2.14,>=2.13->tensorflow<2.14,>=2.13.0->tensorflow-text) (5.3.1)\n",
            "Requirement already satisfied: pyasn1-modules>=0.2.1 in /usr/local/lib/python3.10/dist-packages (from google-auth<3,>=1.6.3->tensorboard<2.14,>=2.13->tensorflow<2.14,>=2.13.0->tensorflow-text) (0.3.0)\n",
            "Requirement already satisfied: rsa<5,>=3.1.4 in /usr/local/lib/python3.10/dist-packages (from google-auth<3,>=1.6.3->tensorboard<2.14,>=2.13->tensorflow<2.14,>=2.13.0->tensorflow-text) (4.9)\n",
            "Requirement already satisfied: requests-oauthlib>=0.7.0 in /usr/local/lib/python3.10/dist-packages (from google-auth-oauthlib<1.1,>=0.5->tensorboard<2.14,>=2.13->tensorflow<2.14,>=2.13.0->tensorflow-text) (1.3.1)\n",
            "Requirement already satisfied: urllib3<1.27,>=1.21.1 in /usr/local/lib/python3.10/dist-packages (from requests<3,>=2.21.0->tensorboard<2.14,>=2.13->tensorflow<2.14,>=2.13.0->tensorflow-text) (1.26.16)\n",
            "Requirement already satisfied: certifi>=2017.4.17 in /usr/local/lib/python3.10/dist-packages (from requests<3,>=2.21.0->tensorboard<2.14,>=2.13->tensorflow<2.14,>=2.13.0->tensorflow-text) (2023.5.7)\n",
            "Requirement already satisfied: charset-normalizer~=2.0.0 in /usr/local/lib/python3.10/dist-packages (from requests<3,>=2.21.0->tensorboard<2.14,>=2.13->tensorflow<2.14,>=2.13.0->tensorflow-text) (2.0.12)\n",
            "Requirement already satisfied: idna<4,>=2.5 in /usr/local/lib/python3.10/dist-packages (from requests<3,>=2.21.0->tensorboard<2.14,>=2.13->tensorflow<2.14,>=2.13.0->tensorflow-text) (3.4)\n",
            "Requirement already satisfied: MarkupSafe>=2.1.1 in /usr/local/lib/python3.10/dist-packages (from werkzeug>=1.0.1->tensorboard<2.14,>=2.13->tensorflow<2.14,>=2.13.0->tensorflow-text) (2.1.3)\n",
            "Requirement already satisfied: pyasn1<0.6.0,>=0.4.6 in /usr/local/lib/python3.10/dist-packages (from pyasn1-modules>=0.2.1->google-auth<3,>=1.6.3->tensorboard<2.14,>=2.13->tensorflow<2.14,>=2.13.0->tensorflow-text) (0.5.0)\n",
            "Requirement already satisfied: oauthlib>=3.0.0 in /usr/local/lib/python3.10/dist-packages (from requests-oauthlib>=0.7.0->google-auth-oauthlib<1.1,>=0.5->tensorboard<2.14,>=2.13->tensorflow<2.14,>=2.13.0->tensorflow-text) (3.2.2)\n",
            "Installing collected packages: typing-extensions, tensorflow-estimator, keras, tensorboard, tensorflow, tensorflow-text\n",
            "  Attempting uninstall: typing-extensions\n",
            "    Found existing installation: typing_extensions 4.6.3\n",
            "    Uninstalling typing_extensions-4.6.3:\n",
            "      Successfully uninstalled typing_extensions-4.6.3\n",
            "  Attempting uninstall: tensorflow-estimator\n",
            "    Found existing installation: tensorflow-estimator 2.12.0\n",
            "    Uninstalling tensorflow-estimator-2.12.0:\n",
            "      Successfully uninstalled tensorflow-estimator-2.12.0\n",
            "  Attempting uninstall: keras\n",
            "    Found existing installation: keras 2.12.0\n",
            "    Uninstalling keras-2.12.0:\n",
            "      Successfully uninstalled keras-2.12.0\n",
            "  Attempting uninstall: tensorboard\n",
            "    Found existing installation: tensorboard 2.12.3\n",
            "    Uninstalling tensorboard-2.12.3:\n",
            "      Successfully uninstalled tensorboard-2.12.3\n",
            "  Attempting uninstall: tensorflow\n",
            "    Found existing installation: tensorflow 2.12.0\n",
            "    Uninstalling tensorflow-2.12.0:\n",
            "      Successfully uninstalled tensorflow-2.12.0\n",
            "Successfully installed keras-2.13.1 tensorboard-2.13.0 tensorflow-2.13.0 tensorflow-estimator-2.13.0 tensorflow-text-2.13.0 typing-extensions-4.5.0\n",
            "Requirement already satisfied: protobuf in /usr/local/lib/python3.10/dist-packages (3.20.3)\n",
            "Collecting langdetect\n",
            "  Downloading langdetect-1.0.9.tar.gz (981 kB)\n",
            "\u001b[2K     \u001b[90m━━━━━━━━━━━━━━━━━━━━━━━━━━━━━━━━━━━━━━\u001b[0m \u001b[32m981.5/981.5 kB\u001b[0m \u001b[31m19.3 MB/s\u001b[0m eta \u001b[36m0:00:00\u001b[0m\n",
            "\u001b[?25h  Preparing metadata (setup.py) ... \u001b[?25l\u001b[?25hdone\n",
            "Requirement already satisfied: six in /usr/local/lib/python3.10/dist-packages (from langdetect) (1.16.0)\n",
            "Building wheels for collected packages: langdetect\n",
            "  Building wheel for langdetect (setup.py) ... \u001b[?25l\u001b[?25hdone\n",
            "  Created wheel for langdetect: filename=langdetect-1.0.9-py3-none-any.whl size=993224 sha256=55fb284676368058f08df02ed713e92c7b5c391fac5401cc03e7161748410826\n",
            "  Stored in directory: /root/.cache/pip/wheels/95/03/7d/59ea870c70ce4e5a370638b5462a7711ab78fba2f655d05106\n",
            "Successfully built langdetect\n",
            "Installing collected packages: langdetect\n",
            "Successfully installed langdetect-1.0.9\n"
          ]
        }
      ],
      "source": [
        "!pip install \"tensorflow-text\"\n",
        "!pip install protobuf\n",
        "!pip install langdetect"
      ]
    },
    {
      "cell_type": "code",
      "source": [
        "import tensorflow as tf\n",
        "tf.__version__"
      ],
      "metadata": {
        "colab": {
          "base_uri": "https://localhost:8080/",
          "height": 35
        },
        "id": "FHEErRkf3XAf",
        "outputId": "7b777d9f-0651-40f8-c91d-f631693ba344"
      },
      "execution_count": 2,
      "outputs": [
        {
          "output_type": "execute_result",
          "data": {
            "text/plain": [
              "'2.13.0'"
            ],
            "application/vnd.google.colaboratory.intrinsic+json": {
              "type": "string"
            }
          },
          "metadata": {},
          "execution_count": 2
        }
      ]
    },
    {
      "cell_type": "code",
      "source": [
        "pip show protobuf"
      ],
      "metadata": {
        "colab": {
          "base_uri": "https://localhost:8080/"
        },
        "id": "TptfxufNkUun",
        "outputId": "1c5bb760-db11-4fc0-b8d3-b3e94eb92d24"
      },
      "execution_count": 31,
      "outputs": [
        {
          "output_type": "stream",
          "name": "stdout",
          "text": [
            "Name: protobuf\n",
            "Version: 3.20.3\n",
            "Summary: Protocol Buffers\n",
            "Home-page: https://developers.google.com/protocol-buffers/\n",
            "Author: \n",
            "Author-email: \n",
            "License: BSD-3-Clause\n",
            "Location: /usr/local/lib/python3.10/dist-packages\n",
            "Requires: \n",
            "Required-by: google-api-core, google-cloud-bigquery, google-cloud-bigquery-connection, google-cloud-bigquery-storage, google-cloud-datastore, google-cloud-firestore, google-cloud-functions, google-cloud-language, google-cloud-translate, googleapis-common-protos, grpc-google-iam-v1, grpcio-status, proto-plus, tensorboard, tensorflow, tensorflow-datasets, tensorflow-hub, tensorflow-metadata\n"
          ]
        }
      ]
    },
    {
      "cell_type": "code",
      "source": [
        "pip show tensorflow_text"
      ],
      "metadata": {
        "colab": {
          "base_uri": "https://localhost:8080/"
        },
        "id": "WiiVvzGmkKeJ",
        "outputId": "0206f873-d933-474a-f1df-526d449e65e1"
      },
      "execution_count": 30,
      "outputs": [
        {
          "output_type": "stream",
          "name": "stdout",
          "text": [
            "Name: tensorflow-text\n",
            "Version: 2.13.0\n",
            "Summary: TF.Text is a TensorFlow library of text related ops, modules, and subgraphs.\n",
            "Home-page: http://github.com/tensorflow/text\n",
            "Author: Google Inc.\n",
            "Author-email: packages@tensorflow.org\n",
            "License: Apache 2.0\n",
            "Location: /usr/local/lib/python3.10/dist-packages\n",
            "Requires: tensorflow, tensorflow-hub\n",
            "Required-by: \n"
          ]
        }
      ]
    },
    {
      "cell_type": "code",
      "execution_count": 3,
      "metadata": {
        "id": "X0O2z0yCc_20"
      },
      "outputs": [],
      "source": [
        "import re\n",
        "from itertools import cycle\n",
        "import json\n",
        "import urllib.request\n",
        "\n",
        "import numpy as np\n",
        "from scipy.sparse import csr_matrix\n",
        "import pandas as pd\n",
        "\n",
        "import seaborn as sns\n",
        "import plotly.express as px\n",
        "import matplotlib.pyplot as plt\n",
        "import matplotlib.colors as mcolors\n",
        "from wordcloud import WordCloud\n",
        "\n",
        "from sklearn import preprocessing\n",
        "from sklearn.metrics import confusion_matrix, classification_report, accuracy_score, roc_curve, auc\n",
        "from sklearn.preprocessing import label_binarize\n",
        "import tensorflow_hub as hub\n",
        "import tensorflow_text as text"
      ]
    },
    {
      "cell_type": "code",
      "execution_count": 4,
      "metadata": {
        "id": "UE_6V0m-dIA1"
      },
      "outputs": [],
      "source": [
        "train_df = pd.read_csv(\"https://raw.githubusercontent.com/google-research/google-research/master/goemotions/data/train.tsv\", sep='\\t', header=None, usecols=[0, 1], names=[\"Text\", \"Emotion\"])\n",
        "test_df = pd.read_csv(\"https://raw.githubusercontent.com/google-research/google-research/master/goemotions/data/test.tsv\", sep='\\t', header=None, usecols=[0, 1], names=[\"Text\", \"Emotion\"])\n",
        "val_df = pd.read_csv(\"https://raw.githubusercontent.com/google-research/google-research/master/goemotions/data/dev.tsv\", sep='\\t', header=None, usecols=[0, 1], names=[\"Text\", \"Emotion\"])"
      ]
    },
    {
      "cell_type": "code",
      "execution_count": 5,
      "metadata": {
        "id": "6XlnXdC6dkx6"
      },
      "outputs": [],
      "source": [
        "# Downlaod Emotion List and Ekman Mapping\n",
        "\n",
        "with urllib.request.urlopen('https://raw.githubusercontent.com/google-research/google-research/master/goemotions/data/emotions.txt') as f:\n",
        "  # Read the contents of the Emotions txt file\n",
        "  emotion_list = f.read().decode().split(\"\\n\")\n",
        "\n",
        "with urllib.request.urlopen('https://raw.githubusercontent.com/google-research/google-research/master/goemotions/data/ekman_mapping.json') as f:\n",
        "    # Read the contents of the ekman_mapping json file\n",
        "    contents = f.read()\n",
        "\n",
        "    # Parse the JSON data\n",
        "    ekman_mapping = json.loads(contents)\n",
        "    ekman_mapping[\"neutral\"] = [\"neutral\"]\n",
        "\n",
        "# Reverse the ekman mapping\n",
        "ekman_dict = {v:k for k, values in ekman_mapping.items() for v in values}"
      ]
    },
    {
      "cell_type": "code",
      "execution_count": 6,
      "metadata": {
        "colab": {
          "base_uri": "https://localhost:8080/",
          "height": 206
        },
        "id": "dtex0Pp6doHK",
        "outputId": "177ae90f-6d6b-44fd-80e2-7514fb8a76c8"
      },
      "outputs": [
        {
          "output_type": "execute_result",
          "data": {
            "text/plain": [
              "                                                Text Emotion\n",
              "0  My favourite food is anything I didn't have to...      27\n",
              "1  Now if he does off himself, everyone will thin...      27\n",
              "2                     WHY THE FUCK IS BAYLESS ISOING       2\n",
              "3                        To make her feel threatened      14\n",
              "4                             Dirty Southern Wankers       3"
            ],
            "text/html": [
              "\n",
              "  <div id=\"df-ce09c76c-6482-4c40-a4b7-ed0950f8770a\">\n",
              "    <div class=\"colab-df-container\">\n",
              "      <div>\n",
              "<style scoped>\n",
              "    .dataframe tbody tr th:only-of-type {\n",
              "        vertical-align: middle;\n",
              "    }\n",
              "\n",
              "    .dataframe tbody tr th {\n",
              "        vertical-align: top;\n",
              "    }\n",
              "\n",
              "    .dataframe thead th {\n",
              "        text-align: right;\n",
              "    }\n",
              "</style>\n",
              "<table border=\"1\" class=\"dataframe\">\n",
              "  <thead>\n",
              "    <tr style=\"text-align: right;\">\n",
              "      <th></th>\n",
              "      <th>Text</th>\n",
              "      <th>Emotion</th>\n",
              "    </tr>\n",
              "  </thead>\n",
              "  <tbody>\n",
              "    <tr>\n",
              "      <th>0</th>\n",
              "      <td>My favourite food is anything I didn't have to...</td>\n",
              "      <td>27</td>\n",
              "    </tr>\n",
              "    <tr>\n",
              "      <th>1</th>\n",
              "      <td>Now if he does off himself, everyone will thin...</td>\n",
              "      <td>27</td>\n",
              "    </tr>\n",
              "    <tr>\n",
              "      <th>2</th>\n",
              "      <td>WHY THE FUCK IS BAYLESS ISOING</td>\n",
              "      <td>2</td>\n",
              "    </tr>\n",
              "    <tr>\n",
              "      <th>3</th>\n",
              "      <td>To make her feel threatened</td>\n",
              "      <td>14</td>\n",
              "    </tr>\n",
              "    <tr>\n",
              "      <th>4</th>\n",
              "      <td>Dirty Southern Wankers</td>\n",
              "      <td>3</td>\n",
              "    </tr>\n",
              "  </tbody>\n",
              "</table>\n",
              "</div>\n",
              "      <button class=\"colab-df-convert\" onclick=\"convertToInteractive('df-ce09c76c-6482-4c40-a4b7-ed0950f8770a')\"\n",
              "              title=\"Convert this dataframe to an interactive table.\"\n",
              "              style=\"display:none;\">\n",
              "        \n",
              "  <svg xmlns=\"http://www.w3.org/2000/svg\" height=\"24px\"viewBox=\"0 0 24 24\"\n",
              "       width=\"24px\">\n",
              "    <path d=\"M0 0h24v24H0V0z\" fill=\"none\"/>\n",
              "    <path d=\"M18.56 5.44l.94 2.06.94-2.06 2.06-.94-2.06-.94-.94-2.06-.94 2.06-2.06.94zm-11 1L8.5 8.5l.94-2.06 2.06-.94-2.06-.94L8.5 2.5l-.94 2.06-2.06.94zm10 10l.94 2.06.94-2.06 2.06-.94-2.06-.94-.94-2.06-.94 2.06-2.06.94z\"/><path d=\"M17.41 7.96l-1.37-1.37c-.4-.4-.92-.59-1.43-.59-.52 0-1.04.2-1.43.59L10.3 9.45l-7.72 7.72c-.78.78-.78 2.05 0 2.83L4 21.41c.39.39.9.59 1.41.59.51 0 1.02-.2 1.41-.59l7.78-7.78 2.81-2.81c.8-.78.8-2.07 0-2.86zM5.41 20L4 18.59l7.72-7.72 1.47 1.35L5.41 20z\"/>\n",
              "  </svg>\n",
              "      </button>\n",
              "      \n",
              "  <style>\n",
              "    .colab-df-container {\n",
              "      display:flex;\n",
              "      flex-wrap:wrap;\n",
              "      gap: 12px;\n",
              "    }\n",
              "\n",
              "    .colab-df-convert {\n",
              "      background-color: #E8F0FE;\n",
              "      border: none;\n",
              "      border-radius: 50%;\n",
              "      cursor: pointer;\n",
              "      display: none;\n",
              "      fill: #1967D2;\n",
              "      height: 32px;\n",
              "      padding: 0 0 0 0;\n",
              "      width: 32px;\n",
              "    }\n",
              "\n",
              "    .colab-df-convert:hover {\n",
              "      background-color: #E2EBFA;\n",
              "      box-shadow: 0px 1px 2px rgba(60, 64, 67, 0.3), 0px 1px 3px 1px rgba(60, 64, 67, 0.15);\n",
              "      fill: #174EA6;\n",
              "    }\n",
              "\n",
              "    [theme=dark] .colab-df-convert {\n",
              "      background-color: #3B4455;\n",
              "      fill: #D2E3FC;\n",
              "    }\n",
              "\n",
              "    [theme=dark] .colab-df-convert:hover {\n",
              "      background-color: #434B5C;\n",
              "      box-shadow: 0px 1px 3px 1px rgba(0, 0, 0, 0.15);\n",
              "      filter: drop-shadow(0px 1px 2px rgba(0, 0, 0, 0.3));\n",
              "      fill: #FFFFFF;\n",
              "    }\n",
              "  </style>\n",
              "\n",
              "      <script>\n",
              "        const buttonEl =\n",
              "          document.querySelector('#df-ce09c76c-6482-4c40-a4b7-ed0950f8770a button.colab-df-convert');\n",
              "        buttonEl.style.display =\n",
              "          google.colab.kernel.accessAllowed ? 'block' : 'none';\n",
              "\n",
              "        async function convertToInteractive(key) {\n",
              "          const element = document.querySelector('#df-ce09c76c-6482-4c40-a4b7-ed0950f8770a');\n",
              "          const dataTable =\n",
              "            await google.colab.kernel.invokeFunction('convertToInteractive',\n",
              "                                                     [key], {});\n",
              "          if (!dataTable) return;\n",
              "\n",
              "          const docLinkHtml = 'Like what you see? Visit the ' +\n",
              "            '<a target=\"_blank\" href=https://colab.research.google.com/notebooks/data_table.ipynb>data table notebook</a>'\n",
              "            + ' to learn more about interactive tables.';\n",
              "          element.innerHTML = '';\n",
              "          dataTable['output_type'] = 'display_data';\n",
              "          await google.colab.output.renderOutput(dataTable, element);\n",
              "          const docLink = document.createElement('div');\n",
              "          docLink.innerHTML = docLinkHtml;\n",
              "          element.appendChild(docLink);\n",
              "        }\n",
              "      </script>\n",
              "    </div>\n",
              "  </div>\n",
              "  "
            ]
          },
          "metadata": {},
          "execution_count": 6
        }
      ],
      "source": [
        "train_df.head()"
      ]
    },
    {
      "cell_type": "code",
      "source": [
        "emotion_list"
      ],
      "metadata": {
        "colab": {
          "base_uri": "https://localhost:8080/"
        },
        "id": "jiOp7xiSRcMb",
        "outputId": "9de8b9da-9ed6-4c1c-8352-c18d6875647b"
      },
      "execution_count": 7,
      "outputs": [
        {
          "output_type": "execute_result",
          "data": {
            "text/plain": [
              "['admiration',\n",
              " 'amusement',\n",
              " 'anger',\n",
              " 'annoyance',\n",
              " 'approval',\n",
              " 'caring',\n",
              " 'confusion',\n",
              " 'curiosity',\n",
              " 'desire',\n",
              " 'disappointment',\n",
              " 'disapproval',\n",
              " 'disgust',\n",
              " 'embarrassment',\n",
              " 'excitement',\n",
              " 'fear',\n",
              " 'gratitude',\n",
              " 'grief',\n",
              " 'joy',\n",
              " 'love',\n",
              " 'nervousness',\n",
              " 'optimism',\n",
              " 'pride',\n",
              " 'realization',\n",
              " 'relief',\n",
              " 'remorse',\n",
              " 'sadness',\n",
              " 'surprise',\n",
              " 'neutral']"
            ]
          },
          "metadata": {},
          "execution_count": 7
        }
      ]
    },
    {
      "cell_type": "code",
      "source": [
        "ekman_dict"
      ],
      "metadata": {
        "colab": {
          "base_uri": "https://localhost:8080/"
        },
        "id": "4lsG3XbuIpl5",
        "outputId": "0a6adf2e-2d6f-49a1-da06-cdea4d786a30"
      },
      "execution_count": 8,
      "outputs": [
        {
          "output_type": "execute_result",
          "data": {
            "text/plain": [
              "{'anger': 'anger',\n",
              " 'annoyance': 'anger',\n",
              " 'disapproval': 'anger',\n",
              " 'disgust': 'disgust',\n",
              " 'fear': 'fear',\n",
              " 'nervousness': 'fear',\n",
              " 'joy': 'joy',\n",
              " 'amusement': 'joy',\n",
              " 'approval': 'joy',\n",
              " 'excitement': 'joy',\n",
              " 'gratitude': 'joy',\n",
              " 'love': 'joy',\n",
              " 'optimism': 'joy',\n",
              " 'relief': 'joy',\n",
              " 'pride': 'joy',\n",
              " 'admiration': 'joy',\n",
              " 'desire': 'joy',\n",
              " 'caring': 'joy',\n",
              " 'sadness': 'sadness',\n",
              " 'disappointment': 'sadness',\n",
              " 'embarrassment': 'sadness',\n",
              " 'grief': 'sadness',\n",
              " 'remorse': 'sadness',\n",
              " 'surprise': 'surprise',\n",
              " 'realization': 'surprise',\n",
              " 'confusion': 'surprise',\n",
              " 'curiosity': 'surprise',\n",
              " 'neutral': 'neutral'}"
            ]
          },
          "metadata": {},
          "execution_count": 8
        }
      ]
    },
    {
      "cell_type": "code",
      "execution_count": 9,
      "metadata": {
        "id": "lI4TUsj5eaaH"
      },
      "outputs": [],
      "source": [
        "def get_emotion(emotion_label):\n",
        "    \"\"\"Function to replace emotions labels with the simplified ekamn mapping\"\"\"\n",
        "    emotion_label = emotion_label.split(\",\")[0]\n",
        "    emotion = emotion_list[int(emotion_label)]\n",
        "    # return emotion after ekman mapping\n",
        "    return ekman_dict[emotion]\n",
        "\n",
        "train_df[\"Emotion\"] = train_df[\"Emotion\"].apply(get_emotion)\n",
        "test_df[\"Emotion\"] = test_df[\"Emotion\"].apply(get_emotion)\n",
        "val_df[\"Emotion\"] = val_df[\"Emotion\"].apply(get_emotion)"
      ]
    },
    {
      "cell_type": "code",
      "execution_count": 10,
      "metadata": {
        "colab": {
          "base_uri": "https://localhost:8080/"
        },
        "id": "rw5Sw8ZEecUx",
        "outputId": "9d8bdae1-9f2f-45fe-b8e5-186e0f48a0f9"
      },
      "outputs": [
        {
          "output_type": "execute_result",
          "data": {
            "text/plain": [
              "array(['neutral', 'anger', 'fear', 'surprise', 'joy', 'sadness',\n",
              "       'disgust'], dtype=object)"
            ]
          },
          "metadata": {},
          "execution_count": 10
        }
      ],
      "source": [
        "train_df[\"Emotion\"].unique()"
      ]
    },
    {
      "cell_type": "code",
      "source": [
        "train_df[\"Emotion\"].value_counts()"
      ],
      "metadata": {
        "colab": {
          "base_uri": "https://localhost:8080/"
        },
        "id": "xc27zfhnNUrS",
        "outputId": "cf601993-7214-4854-d697-c7e72897a910"
      },
      "execution_count": 11,
      "outputs": [
        {
          "output_type": "execute_result",
          "data": {
            "text/plain": [
              "joy         16948\n",
              "neutral     12823\n",
              "anger        5336\n",
              "surprise     4489\n",
              "sadness      2619\n",
              "fear          615\n",
              "disgust       580\n",
              "Name: Emotion, dtype: int64"
            ]
          },
          "metadata": {},
          "execution_count": 11
        }
      ]
    },
    {
      "cell_type": "code",
      "execution_count": 12,
      "metadata": {
        "id": "ECjxH-EGef0b"
      },
      "outputs": [],
      "source": [
        "train_df = train_df.drop_duplicates(\"Text\")\n",
        "test_df = test_df.drop_duplicates(\"Text\")\n",
        "val_df = val_df.drop_duplicates(\"Text\")"
      ]
    },
    {
      "cell_type": "code",
      "execution_count": 13,
      "metadata": {
        "id": "zUIxPmbeef_8"
      },
      "outputs": [],
      "source": [
        "def filter_rows_by_values(df, column, value_list):\n",
        "    \"\"\"This function filters out rows containing a certian value/values \"\"\"\n",
        "    return df[~df[column].isin(value_list)]\n",
        "train_df = filter_rows_by_values(train_df, \"Emotion\", [\"fear\", \"disgust\"])\n",
        "test_df = filter_rows_by_values(test_df, \"Emotion\", [\"fear\", \"disgust\"])\n",
        "val_df = filter_rows_by_values(val_df, \"Emotion\", [\"fear\", \"disgust\"])"
      ]
    },
    {
      "cell_type": "code",
      "source": [
        "train_df[\"Emotion\"].unique()"
      ],
      "metadata": {
        "colab": {
          "base_uri": "https://localhost:8080/"
        },
        "id": "2IfDjvomNgmI",
        "outputId": "789b5a00-d78c-46ff-aad4-398c45e0cd07"
      },
      "execution_count": 14,
      "outputs": [
        {
          "output_type": "execute_result",
          "data": {
            "text/plain": [
              "array(['neutral', 'anger', 'surprise', 'joy', 'sadness'], dtype=object)"
            ]
          },
          "metadata": {},
          "execution_count": 14
        }
      ]
    },
    {
      "cell_type": "code",
      "source": [
        "oh = preprocessing.OneHotEncoder()\n",
        "y_train = oh.fit_transform(train_df[\"Emotion\"].values.reshape(-1,1))\n",
        "y_test = oh.transform(test_df[\"Emotion\"].values.reshape(-1,1))\n",
        "y_val = oh.transform(val_df[\"Emotion\"].values.reshape(-1,1))"
      ],
      "metadata": {
        "id": "DOQ34RCxU4pg"
      },
      "execution_count": null,
      "outputs": []
    },
    {
      "cell_type": "code",
      "execution_count": 16,
      "metadata": {
        "id": "zvxy6z57hFPQ"
      },
      "outputs": [],
      "source": [
        "# Convert sparse matrices to tensors so that it can be used for model training\n",
        "\n",
        "y_train = tf.convert_to_tensor(csr_matrix(y_train).todense(), tf.float32)\n",
        "y_test = tf.convert_to_tensor(csr_matrix(y_test).todense(), tf.float32)\n",
        "y_val = tf.convert_to_tensor(csr_matrix(y_val).todense(), tf.float32)"
      ]
    },
    {
      "cell_type": "code",
      "execution_count": 17,
      "metadata": {
        "id": "vPB74tafhGnv"
      },
      "outputs": [],
      "source": [
        "train_ds =  tf.data.Dataset.from_tensor_slices((train_df[\"Text\"], y_train)).shuffle(buffer_size=1000).batch(64)\n",
        "val_ds =  tf.data.Dataset.from_tensor_slices((val_df[\"Text\"], y_val)).shuffle(buffer_size=1000).batch(64)\n",
        "test_ds = tf.data.Dataset.from_tensor_slices((test_df[\"Text\"], y_test))"
      ]
    },
    {
      "cell_type": "code",
      "execution_count": 18,
      "metadata": {
        "colab": {
          "base_uri": "https://localhost:8080/"
        },
        "id": "QI4ulRRFhOMq",
        "outputId": "2ea7b35a-e1d9-4640-e59c-8f07a648f1b2"
      },
      "outputs": [
        {
          "output_type": "stream",
          "name": "stdout",
          "text": [
            "Text: b'Aren\\xe2\\x80\\x99t people on the internet the best! I don\\xe2\\x80\\x99t blame you for deleting, no time for negativity in this life. \\xf0\\x9f\\x8d\\xbb '\n",
            "Label : 4 (surprise)\n",
            "Text: b'She has at least 12 elbows and all of them are happy. You get it gurl'\n",
            "Label : 1 (joy)\n",
            "Text: b\"I wouldn't let a sweet potato dictate decisions, ever.\"\n",
            "Label : 0 (anger)\n"
          ]
        }
      ],
      "source": [
        "for text_batch, label_batch in train_ds.take(1):\n",
        "  for i in range(3):\n",
        "    print(f'Text: {text_batch.numpy()[i]}')\n",
        "    label = np.argmax(label_batch.numpy()[i])\n",
        "    print(f'Label : {label} ({oh.categories_[0][label]})')"
      ]
    },
    {
      "cell_type": "code",
      "execution_count": 19,
      "metadata": {
        "id": "WLq555OzhfXZ"
      },
      "outputs": [],
      "source": [
        "# We will be using the 'ssmall_bert/bert_en_uncased_L-2_H-128_A-2' model\n",
        "\n",
        "tfhub_handle_encoder = \"https://tfhub.dev/tensorflow/bert_en_uncased_preprocess/3\"\n",
        "tfhub_handle_preprocess = \"https://tfhub.dev/tensorflow/bert_en_uncased_preprocess/3\""
      ]
    },
    {
      "cell_type": "code",
      "execution_count": 20,
      "metadata": {
        "id": "qi7QlrsohhI1"
      },
      "outputs": [],
      "source": [
        "def build_bert_model():\n",
        "  \"\"\"Function which returns a built model\"\"\"\n",
        "\n",
        "  text_input = tf.keras.layers.Input(shape=(), dtype=tf.string)\n",
        "  preprocessor = hub.KerasLayer(\n",
        "        \"https://tfhub.dev/tensorflow/bert_en_uncased_preprocess/3\", name='preprocessing')\n",
        "  encoder_inputs = preprocessor(text_input)\n",
        "  encoder = hub.KerasLayer(\n",
        "        \"https://tfhub.dev/tensorflow/small_bert/bert_en_uncased_L-2_H-128_A-2/2\",\n",
        "        trainable=True,\n",
        "        name='BERT_encoder')\n",
        "  outputs = encoder(encoder_inputs)\n",
        "\n",
        "  net = outputs['pooled_output']\n",
        "  net = tf.keras.layers.Dropout(0.2)(net)\n",
        "  net = tf.keras.layers.Dense(32, activation=\"relu\")(net)\n",
        "  net = tf.keras.layers.Dropout(0.1)(net)\n",
        "  net = tf.keras.layers.Dense(5, activation=\"softmax\", name='classifier')(net)\n",
        "\n",
        "  return tf.keras.Model(text_input, net)\n",
        "model = build_bert_model()"
      ]
    },
    {
      "cell_type": "code",
      "execution_count": 21,
      "metadata": {
        "colab": {
          "base_uri": "https://localhost:8080/",
          "height": 661
        },
        "id": "meLomJBchtIh",
        "outputId": "23e20401-3121-48bb-8b1b-2dc0feb239ce"
      },
      "outputs": [
        {
          "output_type": "execute_result",
          "data": {
            "image/png": "[encoded data removed]",
            "text/plain": [
              "<IPython.core.display.Image object>"
            ]
          },
          "metadata": {},
          "execution_count": 21
        }
      ],
      "source": [
        "tf.keras.utils.plot_model(model)"
      ]
    },
    {
      "cell_type": "code",
      "execution_count": 22,
      "metadata": {
        "colab": {
          "base_uri": "https://localhost:8080/"
        },
        "id": "w_oxI9QHhu-F",
        "outputId": "3a753553-9d37-46c6-b435-a41d00e0b568"
      },
      "outputs": [
        {
          "output_type": "stream",
          "name": "stdout",
          "text": [
            "Epoch 1/10\n",
            "657/657 [==============================] - 760s 1s/step - loss: 1.1188 - accuracy: 0.5786 - val_loss: 1.0047 - val_accuracy: 0.6045\n",
            "Epoch 2/10\n",
            "657/657 [==============================] - 703s 1s/step - loss: 0.9878 - accuracy: 0.6316 - val_loss: 0.9718 - val_accuracy: 0.6223\n",
            "Epoch 3/10\n",
            "657/657 [==============================] - 739s 1s/step - loss: 0.9212 - accuracy: 0.6524 - val_loss: 0.9699 - val_accuracy: 0.6275\n",
            "Epoch 4/10\n",
            "657/657 [==============================] - 743s 1s/step - loss: 0.8519 - accuracy: 0.6823 - val_loss: 0.9924 - val_accuracy: 0.6191\n",
            "Epoch 5/10\n",
            "657/657 [==============================] - 717s 1s/step - loss: 0.7732 - accuracy: 0.7136 - val_loss: 1.0558 - val_accuracy: 0.6144\n",
            "Epoch 6/10\n",
            "657/657 [==============================] - 754s 1s/step - loss: 0.7015 - accuracy: 0.7404 - val_loss: 1.1709 - val_accuracy: 0.6077\n"
          ]
        }
      ],
      "source": [
        "from tensorflow.keras.callbacks import EarlyStopping\n",
        "early_stopping = EarlyStopping(monitor='val_loss', patience=3)\n",
        "loss = tf.keras.losses.CategoricalCrossentropy()\n",
        "model.compile(optimizer=\"adam\", loss=loss, metrics=\"accuracy\")\n",
        "history = model.fit(x=train_ds, validation_data=val_ds, epochs=10, callbacks=[early_stopping])"
      ]
    },
    {
      "cell_type": "code",
      "execution_count": 23,
      "metadata": {
        "id": "xym6ch0B_x7_"
      },
      "outputs": [],
      "source": [
        "save_path = '/content/drive/MyDrive/colab_final_project/savedModels/TransformerSentiment'\n",
        "model.save(save_path)"
      ]
    },
    {
      "cell_type": "code",
      "execution_count": 24,
      "metadata": {
        "id": "qrtsfbIAA43i",
        "colab": {
          "base_uri": "https://localhost:8080/"
        },
        "outputId": "e4c9cffe-8119-4430-8e7e-4d0d56eefade"
      },
      "outputs": [
        {
          "output_type": "stream",
          "name": "stderr",
          "text": [
            "/usr/local/lib/python3.10/dist-packages/keras/src/engine/training.py:3000: UserWarning: You are saving your model as an HDF5 file via `model.save()`. This file format is considered legacy. We recommend using instead the native Keras format, e.g. `model.save('my_model.keras')`.\n",
            "  saving_api.save_model(\n"
          ]
        }
      ],
      "source": [
        "save_path = '/content/drive/MyDrive/colab_final_project/savedModels/TransformerSentimentHDF5.h5'\n",
        "model.save(save_path)"
      ]
    },
    {
      "cell_type": "code",
      "execution_count": 25,
      "metadata": {
        "colab": {
          "base_uri": "https://localhost:8080/"
        },
        "id": "cxcjyXbnBhfN",
        "outputId": "3278acbc-7a50-4161-ef2b-4e756b6407fa"
      },
      "outputs": [
        {
          "output_type": "stream",
          "name": "stdout",
          "text": [
            "164/164 [==============================] - 28s 163ms/step\n",
            "Test Accuracy is 59.93901276920145%\n"
          ]
        }
      ],
      "source": [
        "test_predictions = model.predict(test_df[\"Text\"])\n",
        "# Get the Single labels from predction instead of an array of probabilities\n",
        "test_predictions = np.argmax(test_predictions, axis=1)\n",
        "test_labels = np.argmax(y_test, axis=1)\n",
        "test_acc = accuracy_score(test_labels, test_predictions)\n",
        "print(f\"Test Accuracy is {test_acc*100}%\")"
      ]
    },
    {
      "cell_type": "code",
      "execution_count": 26,
      "metadata": {
        "colab": {
          "base_uri": "https://localhost:8080/"
        },
        "id": "D8xjDQR8CCas",
        "outputId": "eabe27ac-3751-4252-f04e-3252d0b1622c"
      },
      "outputs": [
        {
          "output_type": "stream",
          "name": "stdout",
          "text": [
            "              precision    recall  f1-score   support\n",
            "\n",
            "       anger       0.40      0.62      0.49       703\n",
            "         joy       0.72      0.77      0.75      2049\n",
            "     neutral       0.59      0.45      0.51      1605\n",
            "     sadness       0.54      0.41      0.46       317\n",
            "    surprise       0.53      0.48      0.50       573\n",
            "\n",
            "    accuracy                           0.60      5247\n",
            "   macro avg       0.56      0.55      0.54      5247\n",
            "weighted avg       0.61      0.60      0.60      5247\n",
            "\n"
          ]
        }
      ],
      "source": [
        "# Classification Report\n",
        "print(classification_report(test_labels, test_predictions, target_names=oh.categories_[0]))"
      ]
    },
    {
      "cell_type": "code",
      "execution_count": 27,
      "metadata": {
        "colab": {
          "base_uri": "https://localhost:8080/",
          "height": 671
        },
        "id": "lwbJ5wZDCFRM",
        "outputId": "4db08309-f63a-4272-8317-9f2bf3df9d24"
      },
      "outputs": [
        {
          "output_type": "display_data",
          "data": {
            "text/plain": [
              "<Figure size 2000x1000 with 2 Axes>"
            ],
            "image/png": "[encoded data removed]"
          },
          "metadata": {}
        }
      ],
      "source": [
        "def plot_confusion_matrix(y_test, y_pred, labels=oh.categories_[0]):\n",
        "    \"\"\"\n",
        "    Plot the confusion matrix\n",
        "    \"\"\"\n",
        "    cm = confusion_matrix(y_test, y_pred)\n",
        "    plt.figure(figsize = (20, 10))\n",
        "    cm = pd.DataFrame(cm , index = [i for i in labels] , columns = [i for i in labels])\n",
        "    sns.set(font_scale=1)\n",
        "    sns.heatmap(cm, linecolor='white', cmap='Blues', linewidth=1, annot=True, fmt='')\n",
        "    plt.title('Go Emotion Confusion Matrix', size=20)\n",
        "    plt.xlabel('Predicted Labels', size=14)\n",
        "    plt.ylabel('Actual Labels', size=14)\n",
        "    plt.show()\n",
        "plot_confusion_matrix( test_labels, test_predictions)"
      ]
    },
    {
      "cell_type": "code",
      "source": [
        "%cd drive/MyDrive/colab_final_project/"
      ],
      "metadata": {
        "colab": {
          "base_uri": "https://localhost:8080/"
        },
        "id": "NkZ21o9PkDhk",
        "outputId": "b96d1899-54af-471b-f812-d978adca3e20"
      },
      "execution_count": 32,
      "outputs": [
        {
          "output_type": "stream",
          "name": "stdout",
          "text": [
            "/content/drive/MyDrive/colab_final_project\n"
          ]
        }
      ]
    },
    {
      "cell_type": "code",
      "execution_count": 33,
      "metadata": {
        "colab": {
          "base_uri": "https://localhost:8080/"
        },
        "id": "v6576xAbCpYA",
        "outputId": "bbde81e4-e30b-4fd5-cd74-c96db85b371d"
      },
      "outputs": [
        {
          "output_type": "stream",
          "name": "stderr",
          "text": [
            "[nltk_data] Downloading package punkt to /root/nltk_data...\n",
            "[nltk_data]   Package punkt is already up-to-date!\n",
            "[nltk_data] Downloading package stopwords to /root/nltk_data...\n",
            "[nltk_data]   Package stopwords is already up-to-date!\n",
            "[nltk_data] Downloading package averaged_perceptron_tagger to\n",
            "[nltk_data]     /root/nltk_data...\n",
            "[nltk_data]   Package averaged_perceptron_tagger is already up-to-\n",
            "[nltk_data]       date!\n",
            "[nltk_data] Downloading package wordnet to /root/nltk_data...\n",
            "[nltk_data]   Package wordnet is already up-to-date!\n"
          ]
        }
      ],
      "source": [
        "import nltk\n",
        "from nltk.corpus import stopwords\n",
        "from nltk.tokenize import word_tokenize\n",
        "from nltk.stem import PorterStemmer, WordNetLemmatizer\n",
        "from nltk.corpus import wordnet\n",
        "from nltk import pos_tag\n",
        "nltk.download('punkt')\n",
        "nltk.download('stopwords')\n",
        "nltk.download('averaged_perceptron_tagger')\n",
        "nltk.download('wordnet')\n",
        "\n",
        "\n",
        "emoji_dict = {}\n",
        "with open('emoji.txt', 'r', encoding='latin-1') as emoji_file:\n",
        "    for line in emoji_file:\n",
        "        line = line.strip()\n",
        "        if line:\n",
        "            emoji, value = line.split('\\t')\n",
        "            emoji_dict[emoji] = int(value)\n",
        "def replace_emojis(text, emoji_dict):\n",
        "    for emoji, value in emoji_dict.items():\n",
        "        if value == 1:\n",
        "            text = re.sub(re.escape(emoji), 'happy', text)\n",
        "        elif value == -1:\n",
        "            text = re.sub(re.escape(emoji), 'sad', text)\n",
        "    return text\n",
        "def get_wordnet_pos(treebank_tag):\n",
        "    if treebank_tag.startswith('J'):\n",
        "        return wordnet.ADJ\n",
        "    elif treebank_tag.startswith('V'):\n",
        "        return wordnet.VERB\n",
        "    elif treebank_tag.startswith('N'):\n",
        "        return wordnet.NOUN\n",
        "    elif treebank_tag.startswith('R'):\n",
        "        return wordnet.ADV\n",
        "    else:\n",
        "        return None\n",
        "\n",
        "def preprocess_text(text):\n",
        "    text = text.lower()\n",
        "    text = re.sub(r\"[^a-zA-Z0-9\\s]\", \"\", text)\n",
        "    words = word_tokenize(text)\n",
        "    stemmer = PorterStemmer()\n",
        "    words = [stemmer.stem(word) for word in words]\n",
        "    lemmatizer = WordNetLemmatizer()\n",
        "    tagged = pos_tag(words)\n",
        "    words = [lemmatizer.lemmatize(word, pos=get_wordnet_pos(pos)) if get_wordnet_pos(pos) else word for word, pos in tagged]\n",
        "    stop_words = set(stopwords.words('english'))\n",
        "    filtered_words = [word for word in words if word not in stop_words]\n",
        "    return ' '.join(filtered_words)"
      ]
    },
    {
      "cell_type": "code",
      "execution_count": 35,
      "metadata": {
        "id": "sYQ_7rtLHhR9"
      },
      "outputs": [],
      "source": [
        "import io\n",
        "input_df = pd.read_csv('firstIter.csv')"
      ]
    },
    {
      "cell_type": "code",
      "execution_count": 36,
      "metadata": {
        "id": "f04sX3hfCLh1"
      },
      "outputs": [],
      "source": [
        "import random\n",
        "from langdetect import detect\n",
        "num_texts = 50  # Number of texts to fetch\n",
        "testCorpus = []\n",
        "\n",
        "texts = input_df[\"Comment Text\"].tolist()\n",
        "random.shuffle(texts)\n",
        "\n",
        "for text in texts:\n",
        "    try:\n",
        "        lang = detect(text)\n",
        "    except:\n",
        "        lang = \"\"\n",
        "    if lang == \"en\":\n",
        "        newText = text.strip()\n",
        "        newText = replace_emojis(newText, emoji_dict)\n",
        "        newText = preprocess_text(newText)\n",
        "        testCorpus.append(newText)\n",
        "        if len(testCorpus) == num_texts:\n",
        "            break\n",
        "\n",
        "testCorpus = pd.Series(testCorpus)"
      ]
    },
    {
      "cell_type": "code",
      "execution_count": 37,
      "metadata": {
        "colab": {
          "base_uri": "https://localhost:8080/"
        },
        "id": "2Bee1PgjC0j7",
        "outputId": "312e9ce9-ab78-429a-a418-afa91454d14a"
      },
      "outputs": [
        {
          "output_type": "stream",
          "name": "stdout",
          "text": [
            "2/2 [==============================] - 1s 134ms/step\n"
          ]
        }
      ],
      "source": [
        "myModel =tf.keras.models.load_model(\"savedModels/TransformerSentiment\")\n",
        "myPredictions = myModel.predict(testCorpus)\n",
        "myPredictions = np.argmax(myPredictions, axis=1)"
      ]
    },
    {
      "cell_type": "code",
      "execution_count": 38,
      "metadata": {
        "colab": {
          "base_uri": "https://localhost:8080/"
        },
        "id": "u2jgP2ZEJRLY",
        "outputId": "7b25dfdb-7cd8-42ef-bdab-f4a95ef6dc7d"
      },
      "outputs": [
        {
          "output_type": "stream",
          "name": "stdout",
          "text": [
            "[2 2 2 2 2 2 2 0 1 1 2 1 2 0 0 1 1 2 0 0 1 1 2 1 2 1 1 1 1 2 1 2 1 2 2 1 2\n",
            " 2 2 2 0 2 2 2 1 1 2 2 2 1]\n"
          ]
        }
      ],
      "source": [
        "print(myPredictions)"
      ]
    },
    {
      "cell_type": "code",
      "execution_count": 43,
      "metadata": {
        "colab": {
          "base_uri": "https://localhost:8080/"
        },
        "id": "3w5qEopLLeJp",
        "outputId": "0a28de8c-fa55-4c87-fc1d-39454c27be43"
      },
      "outputs": [
        {
          "output_type": "execute_result",
          "data": {
            "text/plain": [
              "[['neutral'],\n",
              " ['neutral'],\n",
              " ['neutral'],\n",
              " ['neutral'],\n",
              " ['neutral'],\n",
              " ['neutral'],\n",
              " ['neutral'],\n",
              " ['anger', 'annoyance', 'disapproval'],\n",
              " ['joy',\n",
              "  'amusement',\n",
              "  'approval',\n",
              "  'excitement',\n",
              "  'gratitude',\n",
              "  'love',\n",
              "  'optimism',\n",
              "  'relief',\n",
              "  'pride',\n",
              "  'admiration',\n",
              "  'desire',\n",
              "  'caring'],\n",
              " ['joy',\n",
              "  'amusement',\n",
              "  'approval',\n",
              "  'excitement',\n",
              "  'gratitude',\n",
              "  'love',\n",
              "  'optimism',\n",
              "  'relief',\n",
              "  'pride',\n",
              "  'admiration',\n",
              "  'desire',\n",
              "  'caring'],\n",
              " ['neutral'],\n",
              " ['joy',\n",
              "  'amusement',\n",
              "  'approval',\n",
              "  'excitement',\n",
              "  'gratitude',\n",
              "  'love',\n",
              "  'optimism',\n",
              "  'relief',\n",
              "  'pride',\n",
              "  'admiration',\n",
              "  'desire',\n",
              "  'caring'],\n",
              " ['neutral'],\n",
              " ['anger', 'annoyance', 'disapproval'],\n",
              " ['anger', 'annoyance', 'disapproval'],\n",
              " ['joy',\n",
              "  'amusement',\n",
              "  'approval',\n",
              "  'excitement',\n",
              "  'gratitude',\n",
              "  'love',\n",
              "  'optimism',\n",
              "  'relief',\n",
              "  'pride',\n",
              "  'admiration',\n",
              "  'desire',\n",
              "  'caring'],\n",
              " ['joy',\n",
              "  'amusement',\n",
              "  'approval',\n",
              "  'excitement',\n",
              "  'gratitude',\n",
              "  'love',\n",
              "  'optimism',\n",
              "  'relief',\n",
              "  'pride',\n",
              "  'admiration',\n",
              "  'desire',\n",
              "  'caring'],\n",
              " ['neutral'],\n",
              " ['anger', 'annoyance', 'disapproval'],\n",
              " ['anger', 'annoyance', 'disapproval'],\n",
              " ['joy',\n",
              "  'amusement',\n",
              "  'approval',\n",
              "  'excitement',\n",
              "  'gratitude',\n",
              "  'love',\n",
              "  'optimism',\n",
              "  'relief',\n",
              "  'pride',\n",
              "  'admiration',\n",
              "  'desire',\n",
              "  'caring'],\n",
              " ['joy',\n",
              "  'amusement',\n",
              "  'approval',\n",
              "  'excitement',\n",
              "  'gratitude',\n",
              "  'love',\n",
              "  'optimism',\n",
              "  'relief',\n",
              "  'pride',\n",
              "  'admiration',\n",
              "  'desire',\n",
              "  'caring'],\n",
              " ['neutral'],\n",
              " ['joy',\n",
              "  'amusement',\n",
              "  'approval',\n",
              "  'excitement',\n",
              "  'gratitude',\n",
              "  'love',\n",
              "  'optimism',\n",
              "  'relief',\n",
              "  'pride',\n",
              "  'admiration',\n",
              "  'desire',\n",
              "  'caring'],\n",
              " ['neutral'],\n",
              " ['joy',\n",
              "  'amusement',\n",
              "  'approval',\n",
              "  'excitement',\n",
              "  'gratitude',\n",
              "  'love',\n",
              "  'optimism',\n",
              "  'relief',\n",
              "  'pride',\n",
              "  'admiration',\n",
              "  'desire',\n",
              "  'caring'],\n",
              " ['joy',\n",
              "  'amusement',\n",
              "  'approval',\n",
              "  'excitement',\n",
              "  'gratitude',\n",
              "  'love',\n",
              "  'optimism',\n",
              "  'relief',\n",
              "  'pride',\n",
              "  'admiration',\n",
              "  'desire',\n",
              "  'caring'],\n",
              " ['joy',\n",
              "  'amusement',\n",
              "  'approval',\n",
              "  'excitement',\n",
              "  'gratitude',\n",
              "  'love',\n",
              "  'optimism',\n",
              "  'relief',\n",
              "  'pride',\n",
              "  'admiration',\n",
              "  'desire',\n",
              "  'caring'],\n",
              " ['joy',\n",
              "  'amusement',\n",
              "  'approval',\n",
              "  'excitement',\n",
              "  'gratitude',\n",
              "  'love',\n",
              "  'optimism',\n",
              "  'relief',\n",
              "  'pride',\n",
              "  'admiration',\n",
              "  'desire',\n",
              "  'caring'],\n",
              " ['neutral'],\n",
              " ['joy',\n",
              "  'amusement',\n",
              "  'approval',\n",
              "  'excitement',\n",
              "  'gratitude',\n",
              "  'love',\n",
              "  'optimism',\n",
              "  'relief',\n",
              "  'pride',\n",
              "  'admiration',\n",
              "  'desire',\n",
              "  'caring'],\n",
              " ['neutral'],\n",
              " ['joy',\n",
              "  'amusement',\n",
              "  'approval',\n",
              "  'excitement',\n",
              "  'gratitude',\n",
              "  'love',\n",
              "  'optimism',\n",
              "  'relief',\n",
              "  'pride',\n",
              "  'admiration',\n",
              "  'desire',\n",
              "  'caring'],\n",
              " ['neutral'],\n",
              " ['neutral'],\n",
              " ['joy',\n",
              "  'amusement',\n",
              "  'approval',\n",
              "  'excitement',\n",
              "  'gratitude',\n",
              "  'love',\n",
              "  'optimism',\n",
              "  'relief',\n",
              "  'pride',\n",
              "  'admiration',\n",
              "  'desire',\n",
              "  'caring'],\n",
              " ['neutral'],\n",
              " ['neutral'],\n",
              " ['neutral'],\n",
              " ['neutral'],\n",
              " ['anger', 'annoyance', 'disapproval'],\n",
              " ['neutral'],\n",
              " ['neutral'],\n",
              " ['neutral'],\n",
              " ['joy',\n",
              "  'amusement',\n",
              "  'approval',\n",
              "  'excitement',\n",
              "  'gratitude',\n",
              "  'love',\n",
              "  'optimism',\n",
              "  'relief',\n",
              "  'pride',\n",
              "  'admiration',\n",
              "  'desire',\n",
              "  'caring'],\n",
              " ['joy',\n",
              "  'amusement',\n",
              "  'approval',\n",
              "  'excitement',\n",
              "  'gratitude',\n",
              "  'love',\n",
              "  'optimism',\n",
              "  'relief',\n",
              "  'pride',\n",
              "  'admiration',\n",
              "  'desire',\n",
              "  'caring'],\n",
              " ['neutral'],\n",
              " ['neutral'],\n",
              " ['neutral'],\n",
              " ['joy',\n",
              "  'amusement',\n",
              "  'approval',\n",
              "  'excitement',\n",
              "  'gratitude',\n",
              "  'love',\n",
              "  'optimism',\n",
              "  'relief',\n",
              "  'pride',\n",
              "  'admiration',\n",
              "  'desire',\n",
              "  'caring']]"
            ]
          },
          "metadata": {},
          "execution_count": 43
        }
      ],
      "source": [
        "emotion_mapping = {\n",
        "    0: [\"anger\", \"annoyance\", \"disapproval\"],\n",
        "    1: [\"joy\", \"amusement\", \"approval\", \"excitement\", \"gratitude\", \"love\", \"optimism\", \"relief\", \"pride\", \"admiration\", \"desire\", \"caring\"],\n",
        "    2: [\"neutral\"],\n",
        "    3: [\"sadness\", \"disappointment\", \"embarrassment\", \"grief\", \"remorse\"],\n",
        "    4: [\"surprise\", \"realization\", \"confusion\", \"curiosity\"]\n",
        "}\n",
        "decoded_predictions = [emotion_mapping[prediction] for prediction in myPredictions]\n",
        "decoded_predictions"
      ]
    },
    {
      "cell_type": "code",
      "execution_count": 40,
      "metadata": {
        "id": "e-thEx0PMjzr"
      },
      "outputs": [],
      "source": [
        "!pip freeze > requirements.txt"
      ]
    },
    {
      "cell_type": "code",
      "source": [
        "!pip install pipreqs"
      ],
      "metadata": {
        "colab": {
          "base_uri": "https://localhost:8080/"
        },
        "id": "83TMd0qu-Omq",
        "outputId": "288e556e-8ce0-4ce0-d1e1-cba6cc0d39b3"
      },
      "execution_count": 46,
      "outputs": [
        {
          "output_type": "stream",
          "name": "stdout",
          "text": [
            "Collecting pipreqs\n",
            "  Downloading pipreqs-0.4.13-py2.py3-none-any.whl (33 kB)\n",
            "Collecting docopt (from pipreqs)\n",
            "  Downloading docopt-0.6.2.tar.gz (25 kB)\n",
            "  Preparing metadata (setup.py) ... \u001b[?25l\u001b[?25hdone\n",
            "Collecting yarg (from pipreqs)\n",
            "  Downloading yarg-0.1.9-py2.py3-none-any.whl (19 kB)\n",
            "Requirement already satisfied: requests in /usr/local/lib/python3.10/dist-packages (from yarg->pipreqs) (2.27.1)\n",
            "Requirement already satisfied: urllib3<1.27,>=1.21.1 in /usr/local/lib/python3.10/dist-packages (from requests->yarg->pipreqs) (1.26.16)\n",
            "Requirement already satisfied: certifi>=2017.4.17 in /usr/local/lib/python3.10/dist-packages (from requests->yarg->pipreqs) (2023.5.7)\n",
            "Requirement already satisfied: charset-normalizer~=2.0.0 in /usr/local/lib/python3.10/dist-packages (from requests->yarg->pipreqs) (2.0.12)\n",
            "Requirement already satisfied: idna<4,>=2.5 in /usr/local/lib/python3.10/dist-packages (from requests->yarg->pipreqs) (3.4)\n",
            "Building wheels for collected packages: docopt\n",
            "  Building wheel for docopt (setup.py) ... \u001b[?25l\u001b[?25hdone\n",
            "  Created wheel for docopt: filename=docopt-0.6.2-py2.py3-none-any.whl size=13707 sha256=13869d619b62aa954cf865c7101950f906be3a58dbf96909d51bb147504c79ae\n",
            "  Stored in directory: /root/.cache/pip/wheels/fc/ab/d4/5da2067ac95b36618c629a5f93f809425700506f72c9732fac\n",
            "Successfully built docopt\n",
            "Installing collected packages: docopt, yarg, pipreqs\n",
            "Successfully installed docopt-0.6.2 pipreqs-0.4.13 yarg-0.1.9\n"
          ]
        }
      ]
    },
    {
      "cell_type": "code",
      "source": [
        "!pipreqs . --force"
      ],
      "metadata": {
        "colab": {
          "base_uri": "https://localhost:8080/"
        },
        "id": "7AqwSzvhAn5x",
        "outputId": "957908f2-ede1-4f78-a669-f4dca395a17c"
      },
      "execution_count": 48,
      "outputs": [
        {
          "output_type": "stream",
          "name": "stdout",
          "text": [
            "ERROR: Failed on file: ./models/research/cognitive_planning/train_supervised_active_vision.py\n",
            "Traceback (most recent call last):\n",
            "  File \"/usr/local/bin/pipreqs\", line 8, in <module>\n",
            "    sys.exit(main())\n",
            "  File \"/usr/local/lib/python3.10/dist-packages/pipreqs/pipreqs.py\", line 528, in main\n",
            "    init(args)\n",
            "  File \"/usr/local/lib/python3.10/dist-packages/pipreqs/pipreqs.py\", line 455, in init\n",
            "    candidates = get_all_imports(input_path,\n",
            "  File \"/usr/local/lib/python3.10/dist-packages/pipreqs/pipreqs.py\", line 131, in get_all_imports\n",
            "    raise exc\n",
            "  File \"/usr/local/lib/python3.10/dist-packages/pipreqs/pipreqs.py\", line 117, in get_all_imports\n",
            "    tree = ast.parse(contents)\n",
            "  File \"/usr/lib/python3.10/ast.py\", line 50, in parse\n",
            "    return compile(source, filename, mode, flags,\n",
            "  File \"<unknown>\", line 185\n",
            "    print inputs\n",
            "    ^^^^^^^^^^^^\n",
            "SyntaxError: Missing parentheses in call to 'print'. Did you mean print(...)?\n"
          ]
        }
      ]
    },
    {
      "cell_type": "code",
      "source": [
        "!pip install pip==21.2"
      ],
      "metadata": {
        "colab": {
          "base_uri": "https://localhost:8080/"
        },
        "id": "UcH34t3zsvfL",
        "outputId": "1434d420-fac7-4922-d1e8-9c2738c74ed9"
      },
      "execution_count": null,
      "outputs": [
        {
          "output_type": "stream",
          "name": "stdout",
          "text": [
            "Collecting pip==21.2\n",
            "  Downloading pip-21.2-py3-none-any.whl (1.6 MB)\n",
            "\u001b[?25l     \u001b[90m━━━━━━━━━━━━━━━━━━━━━━━━━━━━━━━━━━━━━━━━\u001b[0m \u001b[32m0.0/1.6 MB\u001b[0m \u001b[31m?\u001b[0m eta \u001b[36m-:--:--\u001b[0m\r\u001b[2K     \u001b[91m━━━━━━━━━━━\u001b[0m\u001b[90m╺\u001b[0m\u001b[90m━━━━━━━━━━━━━━━━━━━━━━━━━━━━\u001b[0m \u001b[32m0.4/1.6 MB\u001b[0m \u001b[31m10.7 MB/s\u001b[0m eta \u001b[36m0:00:01\u001b[0m\r\u001b[2K     \u001b[91m━━━━━━━━━━━━━━━━━━━━━━━━━━━━━━━━━━━━━━━\u001b[0m\u001b[91m╸\u001b[0m \u001b[32m1.5/1.6 MB\u001b[0m \u001b[31m23.2 MB/s\u001b[0m eta \u001b[36m0:00:01\u001b[0m\r\u001b[2K     \u001b[90m━━━━━━━━━━━━━━━━━━━━━━━━━━━━━━━━━━━━━━━━\u001b[0m \u001b[32m1.6/1.6 MB\u001b[0m \u001b[31m16.5 MB/s\u001b[0m eta \u001b[36m0:00:00\u001b[0m\n",
            "\u001b[?25h\u001b[33mWARNING: The candidate selected for download or install is a yanked version: 'pip' candidate (version 21.2 at https://files.pythonhosted.org/packages/03/0f/b125bfdd145c1d018d75ce87603e7e9ff2416e742c71b5ac7deba13ca699/pip-21.2-py3-none-any.whl (from https://pypi.org/simple/pip/) (requires-python:>=3.6))\n",
            "Reason for being yanked: See https://github.com/pypa/pip/issues/8711\u001b[0m\u001b[33m\n",
            "\u001b[0m"
          ]
        }
      ]
    },
    {
      "cell_type": "code",
      "source": [
        "from pip._internal.utils.misc import get_installed_distributions\n",
        "import sys\n",
        "#import numpy as np # imported to test whether numpy shows up, which it does!\n",
        "\n",
        "def get_imported_packages():\n",
        "    p = get_installed_distributions()\n",
        "    p = {package.key:package.version for package in p}\n",
        "\n",
        "    imported_modules = set(sys.modules.keys())\n",
        "\n",
        "    imported_modules.remove('pip')\n",
        "\n",
        "    modules = [(m, p[m]) for m in imported_modules if p.get(m, False)]\n",
        "\n",
        "    return modules\n",
        "\n",
        "\n",
        "def generate_requirements(filepath:str, modules):\n",
        "    with open(filepath, 'w') as f:\n",
        "        for module, version in modules:\n",
        "            f.write(f\"{module}=={version}\")\n",
        "\n",
        "\n",
        "generate_requirements('requirements.txt', get_imported_packages())"
      ],
      "metadata": {
        "colab": {
          "base_uri": "https://localhost:8080/",
          "height": 427
        },
        "id": "FeXdwehhsz9I",
        "outputId": "867b8b50-5809-4f8e-d7aa-db2d08cb85a7"
      },
      "execution_count": 52,
      "outputs": [
        {
          "output_type": "stream",
          "name": "stderr",
          "text": [
            "/usr/local/lib/python3.10/dist-packages/_distutils_hack/__init__.py:33: UserWarning: Setuptools is replacing distutils.\n",
            "  warnings.warn(\"Setuptools is replacing distutils.\")\n"
          ]
        },
        {
          "output_type": "error",
          "ename": "ImportError",
          "evalue": "ignored",
          "traceback": [
            "\u001b[0;31m---------------------------------------------------------------------------\u001b[0m",
            "\u001b[0;31mImportError\u001b[0m                               Traceback (most recent call last)",
            "\u001b[0;32m<ipython-input-52-d65945278e2a>\u001b[0m in \u001b[0;36m<cell line: 1>\u001b[0;34m()\u001b[0m\n\u001b[0;32m----> 1\u001b[0;31m \u001b[0;32mfrom\u001b[0m \u001b[0mpip\u001b[0m\u001b[0;34m.\u001b[0m\u001b[0m_internal\u001b[0m\u001b[0;34m.\u001b[0m\u001b[0mutils\u001b[0m\u001b[0;34m.\u001b[0m\u001b[0mmisc\u001b[0m \u001b[0;32mimport\u001b[0m \u001b[0mget_installed_distributions\u001b[0m\u001b[0;34m\u001b[0m\u001b[0;34m\u001b[0m\u001b[0m\n\u001b[0m\u001b[1;32m      2\u001b[0m \u001b[0;32mimport\u001b[0m \u001b[0msys\u001b[0m\u001b[0;34m\u001b[0m\u001b[0;34m\u001b[0m\u001b[0m\n\u001b[1;32m      3\u001b[0m \u001b[0;31m#import numpy as np # imported to test whether numpy shows up, which it does!\u001b[0m\u001b[0;34m\u001b[0m\u001b[0;34m\u001b[0m\u001b[0m\n\u001b[1;32m      4\u001b[0m \u001b[0;34m\u001b[0m\u001b[0m\n\u001b[1;32m      5\u001b[0m \u001b[0;32mdef\u001b[0m \u001b[0mget_imported_packages\u001b[0m\u001b[0;34m(\u001b[0m\u001b[0;34m)\u001b[0m\u001b[0;34m:\u001b[0m\u001b[0;34m\u001b[0m\u001b[0;34m\u001b[0m\u001b[0m\n",
            "\u001b[0;31mImportError\u001b[0m: cannot import name 'get_installed_distributions' from 'pip._internal.utils.misc' (/usr/local/lib/python3.10/dist-packages/pip/_internal/utils/misc.py)",
            "",
            "\u001b[0;31m---------------------------------------------------------------------------\u001b[0;32m\nNOTE: If your import is failing due to a missing package, you can\nmanually install dependencies using either !pip or !apt.\n\nTo view examples of installing some common dependencies, click the\n\"Open Examples\" button below.\n\u001b[0;31m---------------------------------------------------------------------------\u001b[0m\n"
          ],
          "errorDetails": {
            "actions": [
              {
                "action": "open_url",
                "actionText": "Open Examples",
                "url": "/notebooks/snippets/importing_libraries.ipynb"
              }
            ]
          }
        }
      ]
    }
  ],
  "metadata": {
    "colab": {
      "provenance": []
    },
    "kernelspec": {
      "display_name": "Python 3",
      "name": "python3"
    },
    "language_info": {
      "name": "python"
    }
  },
  "nbformat": 4,
  "nbformat_minor": 0
}